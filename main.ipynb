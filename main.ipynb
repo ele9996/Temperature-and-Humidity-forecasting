{
  "nbformat": 4,
  "nbformat_minor": 0,
  "metadata": {
    "colab": {
      "name": "iOT_lab3.ipynb",
      "provenance": [],
      "authorship_tag": "ABX9TyPWHp8tzB5UraEYX37viJjg",
      "include_colab_link": true
    },
    "kernelspec": {
      "name": "python3",
      "display_name": "Python 3"
    }
  },
  "cells": [
    {
      "cell_type": "markdown",
      "metadata": {
        "id": "view-in-github",
        "colab_type": "text"
      },
      "source": [
        "<a href=\"https://colab.research.google.com/github/ele9996/Temperature-and-Humidity-forecasting/blob/main/main.ipynb\" target=\"_parent\"><img src=\"https://colab.research.google.com/assets/colab-badge.svg\" alt=\"Open In Colab\"/></a>"
      ]
    },
    {
      "cell_type": "markdown",
      "metadata": {
        "id": "PgFFC76SNVvD"
      },
      "source": [
        "#Temperature and humidity forecasting"
      ]
    },
    {
      "cell_type": "code",
      "metadata": {
        "id": "t0FttZjuTB08"
      },
      "source": [
        "import tensorflow as tf\n",
        "import numpy as np\n",
        "from tensorflow import keras\n",
        "import pandas as pd\n",
        "import matplotlib.pyplot as plt\n",
        "import argparse\n",
        "import os\n",
        "from zipfile import ZipFile"
      ],
      "execution_count": 31,
      "outputs": []
    },
    {
      "cell_type": "code",
      "metadata": {
        "id": "fo34_B25dfCU"
      },
      "source": [
        "seed = 42\n",
        "tf.random.set_seed(seed)\n",
        "np.random.seed(seed)"
      ],
      "execution_count": 32,
      "outputs": []
    },
    {
      "cell_type": "code",
      "metadata": {
        "id": "Te56lo9wmebe"
      },
      "source": [
        "#parser = argparse.ArgumentParser()\n",
        "#parser.add_argument('--model', type=str, required=True, help='model name')\n",
        "#parser.add_argument('--labels', type=int, required=True, help='model output')\n",
        "#args = parser.parse_args()\n",
        "\n",
        "#per prova\n",
        "label_to_predict= 2\n",
        "model_name= \"my_model\""
      ],
      "execution_count": 33,
      "outputs": []
    },
    {
      "cell_type": "markdown",
      "metadata": {
        "id": "JEvUcAkrRcf_"
      },
      "source": [
        "##Import Dataset"
      ]
    },
    {
      "cell_type": "code",
      "metadata": {
        "colab": {
          "base_uri": "https://localhost:8080/",
          "height": 623
        },
        "id": "JzQev5UmNTTy",
        "outputId": "03771754-c38f-4ac5-be78-cf349ae6baf2"
      },
      "source": [
        "uri = \"https://storage.googleapis.com/tensorflow/tf-keras-datasets/jena_climate_2009_2016.csv.zip\"\n",
        "zip_path = keras.utils.get_file(origin=uri, fname=\"jena_climate_2009_2016.csv.zip\")\n",
        "zip_file = ZipFile(zip_path)\n",
        "zip_file.extractall()\n",
        "csv_path = \"jena_climate_2009_2016.csv\"\n",
        "\n",
        "df = pd.read_csv(csv_path)\n",
        "df"
      ],
      "execution_count": 34,
      "outputs": [
        {
          "output_type": "execute_result",
          "data": {
            "text/html": [
              "<div>\n",
              "<style scoped>\n",
              "    .dataframe tbody tr th:only-of-type {\n",
              "        vertical-align: middle;\n",
              "    }\n",
              "\n",
              "    .dataframe tbody tr th {\n",
              "        vertical-align: top;\n",
              "    }\n",
              "\n",
              "    .dataframe thead th {\n",
              "        text-align: right;\n",
              "    }\n",
              "</style>\n",
              "<table border=\"1\" class=\"dataframe\">\n",
              "  <thead>\n",
              "    <tr style=\"text-align: right;\">\n",
              "      <th></th>\n",
              "      <th>Date Time</th>\n",
              "      <th>p (mbar)</th>\n",
              "      <th>T (degC)</th>\n",
              "      <th>Tpot (K)</th>\n",
              "      <th>Tdew (degC)</th>\n",
              "      <th>rh (%)</th>\n",
              "      <th>VPmax (mbar)</th>\n",
              "      <th>VPact (mbar)</th>\n",
              "      <th>VPdef (mbar)</th>\n",
              "      <th>sh (g/kg)</th>\n",
              "      <th>H2OC (mmol/mol)</th>\n",
              "      <th>rho (g/m**3)</th>\n",
              "      <th>wv (m/s)</th>\n",
              "      <th>max. wv (m/s)</th>\n",
              "      <th>wd (deg)</th>\n",
              "    </tr>\n",
              "  </thead>\n",
              "  <tbody>\n",
              "    <tr>\n",
              "      <th>0</th>\n",
              "      <td>01.01.2009 00:10:00</td>\n",
              "      <td>996.52</td>\n",
              "      <td>-8.02</td>\n",
              "      <td>265.40</td>\n",
              "      <td>-8.90</td>\n",
              "      <td>93.30</td>\n",
              "      <td>3.33</td>\n",
              "      <td>3.11</td>\n",
              "      <td>0.22</td>\n",
              "      <td>1.94</td>\n",
              "      <td>3.12</td>\n",
              "      <td>1307.75</td>\n",
              "      <td>1.03</td>\n",
              "      <td>1.75</td>\n",
              "      <td>152.3</td>\n",
              "    </tr>\n",
              "    <tr>\n",
              "      <th>1</th>\n",
              "      <td>01.01.2009 00:20:00</td>\n",
              "      <td>996.57</td>\n",
              "      <td>-8.41</td>\n",
              "      <td>265.01</td>\n",
              "      <td>-9.28</td>\n",
              "      <td>93.40</td>\n",
              "      <td>3.23</td>\n",
              "      <td>3.02</td>\n",
              "      <td>0.21</td>\n",
              "      <td>1.89</td>\n",
              "      <td>3.03</td>\n",
              "      <td>1309.80</td>\n",
              "      <td>0.72</td>\n",
              "      <td>1.50</td>\n",
              "      <td>136.1</td>\n",
              "    </tr>\n",
              "    <tr>\n",
              "      <th>2</th>\n",
              "      <td>01.01.2009 00:30:00</td>\n",
              "      <td>996.53</td>\n",
              "      <td>-8.51</td>\n",
              "      <td>264.91</td>\n",
              "      <td>-9.31</td>\n",
              "      <td>93.90</td>\n",
              "      <td>3.21</td>\n",
              "      <td>3.01</td>\n",
              "      <td>0.20</td>\n",
              "      <td>1.88</td>\n",
              "      <td>3.02</td>\n",
              "      <td>1310.24</td>\n",
              "      <td>0.19</td>\n",
              "      <td>0.63</td>\n",
              "      <td>171.6</td>\n",
              "    </tr>\n",
              "    <tr>\n",
              "      <th>3</th>\n",
              "      <td>01.01.2009 00:40:00</td>\n",
              "      <td>996.51</td>\n",
              "      <td>-8.31</td>\n",
              "      <td>265.12</td>\n",
              "      <td>-9.07</td>\n",
              "      <td>94.20</td>\n",
              "      <td>3.26</td>\n",
              "      <td>3.07</td>\n",
              "      <td>0.19</td>\n",
              "      <td>1.92</td>\n",
              "      <td>3.08</td>\n",
              "      <td>1309.19</td>\n",
              "      <td>0.34</td>\n",
              "      <td>0.50</td>\n",
              "      <td>198.0</td>\n",
              "    </tr>\n",
              "    <tr>\n",
              "      <th>4</th>\n",
              "      <td>01.01.2009 00:50:00</td>\n",
              "      <td>996.51</td>\n",
              "      <td>-8.27</td>\n",
              "      <td>265.15</td>\n",
              "      <td>-9.04</td>\n",
              "      <td>94.10</td>\n",
              "      <td>3.27</td>\n",
              "      <td>3.08</td>\n",
              "      <td>0.19</td>\n",
              "      <td>1.92</td>\n",
              "      <td>3.09</td>\n",
              "      <td>1309.00</td>\n",
              "      <td>0.32</td>\n",
              "      <td>0.63</td>\n",
              "      <td>214.3</td>\n",
              "    </tr>\n",
              "    <tr>\n",
              "      <th>...</th>\n",
              "      <td>...</td>\n",
              "      <td>...</td>\n",
              "      <td>...</td>\n",
              "      <td>...</td>\n",
              "      <td>...</td>\n",
              "      <td>...</td>\n",
              "      <td>...</td>\n",
              "      <td>...</td>\n",
              "      <td>...</td>\n",
              "      <td>...</td>\n",
              "      <td>...</td>\n",
              "      <td>...</td>\n",
              "      <td>...</td>\n",
              "      <td>...</td>\n",
              "      <td>...</td>\n",
              "    </tr>\n",
              "    <tr>\n",
              "      <th>420546</th>\n",
              "      <td>31.12.2016 23:20:00</td>\n",
              "      <td>1000.07</td>\n",
              "      <td>-4.05</td>\n",
              "      <td>269.10</td>\n",
              "      <td>-8.13</td>\n",
              "      <td>73.10</td>\n",
              "      <td>4.52</td>\n",
              "      <td>3.30</td>\n",
              "      <td>1.22</td>\n",
              "      <td>2.06</td>\n",
              "      <td>3.30</td>\n",
              "      <td>1292.98</td>\n",
              "      <td>0.67</td>\n",
              "      <td>1.52</td>\n",
              "      <td>240.0</td>\n",
              "    </tr>\n",
              "    <tr>\n",
              "      <th>420547</th>\n",
              "      <td>31.12.2016 23:30:00</td>\n",
              "      <td>999.93</td>\n",
              "      <td>-3.35</td>\n",
              "      <td>269.81</td>\n",
              "      <td>-8.06</td>\n",
              "      <td>69.71</td>\n",
              "      <td>4.77</td>\n",
              "      <td>3.32</td>\n",
              "      <td>1.44</td>\n",
              "      <td>2.07</td>\n",
              "      <td>3.32</td>\n",
              "      <td>1289.44</td>\n",
              "      <td>1.14</td>\n",
              "      <td>1.92</td>\n",
              "      <td>234.3</td>\n",
              "    </tr>\n",
              "    <tr>\n",
              "      <th>420548</th>\n",
              "      <td>31.12.2016 23:40:00</td>\n",
              "      <td>999.82</td>\n",
              "      <td>-3.16</td>\n",
              "      <td>270.01</td>\n",
              "      <td>-8.21</td>\n",
              "      <td>67.91</td>\n",
              "      <td>4.84</td>\n",
              "      <td>3.28</td>\n",
              "      <td>1.55</td>\n",
              "      <td>2.05</td>\n",
              "      <td>3.28</td>\n",
              "      <td>1288.39</td>\n",
              "      <td>1.08</td>\n",
              "      <td>2.00</td>\n",
              "      <td>215.2</td>\n",
              "    </tr>\n",
              "    <tr>\n",
              "      <th>420549</th>\n",
              "      <td>31.12.2016 23:50:00</td>\n",
              "      <td>999.81</td>\n",
              "      <td>-4.23</td>\n",
              "      <td>268.94</td>\n",
              "      <td>-8.53</td>\n",
              "      <td>71.80</td>\n",
              "      <td>4.46</td>\n",
              "      <td>3.20</td>\n",
              "      <td>1.26</td>\n",
              "      <td>1.99</td>\n",
              "      <td>3.20</td>\n",
              "      <td>1293.56</td>\n",
              "      <td>1.49</td>\n",
              "      <td>2.16</td>\n",
              "      <td>225.8</td>\n",
              "    </tr>\n",
              "    <tr>\n",
              "      <th>420550</th>\n",
              "      <td>01.01.2017 00:00:00</td>\n",
              "      <td>999.82</td>\n",
              "      <td>-4.82</td>\n",
              "      <td>268.36</td>\n",
              "      <td>-8.42</td>\n",
              "      <td>75.70</td>\n",
              "      <td>4.27</td>\n",
              "      <td>3.23</td>\n",
              "      <td>1.04</td>\n",
              "      <td>2.01</td>\n",
              "      <td>3.23</td>\n",
              "      <td>1296.38</td>\n",
              "      <td>1.23</td>\n",
              "      <td>1.96</td>\n",
              "      <td>184.9</td>\n",
              "    </tr>\n",
              "  </tbody>\n",
              "</table>\n",
              "<p>420551 rows × 15 columns</p>\n",
              "</div>"
            ],
            "text/plain": [
              "                  Date Time  p (mbar)  ...  max. wv (m/s)  wd (deg)\n",
              "0       01.01.2009 00:10:00    996.52  ...           1.75     152.3\n",
              "1       01.01.2009 00:20:00    996.57  ...           1.50     136.1\n",
              "2       01.01.2009 00:30:00    996.53  ...           0.63     171.6\n",
              "3       01.01.2009 00:40:00    996.51  ...           0.50     198.0\n",
              "4       01.01.2009 00:50:00    996.51  ...           0.63     214.3\n",
              "...                     ...       ...  ...            ...       ...\n",
              "420546  31.12.2016 23:20:00   1000.07  ...           1.52     240.0\n",
              "420547  31.12.2016 23:30:00    999.93  ...           1.92     234.3\n",
              "420548  31.12.2016 23:40:00    999.82  ...           2.00     215.2\n",
              "420549  31.12.2016 23:50:00    999.81  ...           2.16     225.8\n",
              "420550  01.01.2017 00:00:00    999.82  ...           1.96     184.9\n",
              "\n",
              "[420551 rows x 15 columns]"
            ]
          },
          "metadata": {
            "tags": []
          },
          "execution_count": 34
        }
      ]
    },
    {
      "cell_type": "code",
      "metadata": {
        "id": "XUTkTmfkRlXw",
        "colab": {
          "base_uri": "https://localhost:8080/",
          "height": 402
        },
        "outputId": "f7bf1c02-bf2d-4401-ce60-c525a16cb89a"
      },
      "source": [
        "selected_feat=['T (degC)','rh (%)']\n",
        "selected_df=df[selected_feat]    #df.loc[:,selected_feat].values\n",
        "\n",
        "selected_df"
      ],
      "execution_count": 35,
      "outputs": [
        {
          "output_type": "execute_result",
          "data": {
            "text/html": [
              "<div>\n",
              "<style scoped>\n",
              "    .dataframe tbody tr th:only-of-type {\n",
              "        vertical-align: middle;\n",
              "    }\n",
              "\n",
              "    .dataframe tbody tr th {\n",
              "        vertical-align: top;\n",
              "    }\n",
              "\n",
              "    .dataframe thead th {\n",
              "        text-align: right;\n",
              "    }\n",
              "</style>\n",
              "<table border=\"1\" class=\"dataframe\">\n",
              "  <thead>\n",
              "    <tr style=\"text-align: right;\">\n",
              "      <th></th>\n",
              "      <th>T (degC)</th>\n",
              "      <th>rh (%)</th>\n",
              "    </tr>\n",
              "  </thead>\n",
              "  <tbody>\n",
              "    <tr>\n",
              "      <th>0</th>\n",
              "      <td>-8.02</td>\n",
              "      <td>93.30</td>\n",
              "    </tr>\n",
              "    <tr>\n",
              "      <th>1</th>\n",
              "      <td>-8.41</td>\n",
              "      <td>93.40</td>\n",
              "    </tr>\n",
              "    <tr>\n",
              "      <th>2</th>\n",
              "      <td>-8.51</td>\n",
              "      <td>93.90</td>\n",
              "    </tr>\n",
              "    <tr>\n",
              "      <th>3</th>\n",
              "      <td>-8.31</td>\n",
              "      <td>94.20</td>\n",
              "    </tr>\n",
              "    <tr>\n",
              "      <th>4</th>\n",
              "      <td>-8.27</td>\n",
              "      <td>94.10</td>\n",
              "    </tr>\n",
              "    <tr>\n",
              "      <th>...</th>\n",
              "      <td>...</td>\n",
              "      <td>...</td>\n",
              "    </tr>\n",
              "    <tr>\n",
              "      <th>420546</th>\n",
              "      <td>-4.05</td>\n",
              "      <td>73.10</td>\n",
              "    </tr>\n",
              "    <tr>\n",
              "      <th>420547</th>\n",
              "      <td>-3.35</td>\n",
              "      <td>69.71</td>\n",
              "    </tr>\n",
              "    <tr>\n",
              "      <th>420548</th>\n",
              "      <td>-3.16</td>\n",
              "      <td>67.91</td>\n",
              "    </tr>\n",
              "    <tr>\n",
              "      <th>420549</th>\n",
              "      <td>-4.23</td>\n",
              "      <td>71.80</td>\n",
              "    </tr>\n",
              "    <tr>\n",
              "      <th>420550</th>\n",
              "      <td>-4.82</td>\n",
              "      <td>75.70</td>\n",
              "    </tr>\n",
              "  </tbody>\n",
              "</table>\n",
              "<p>420551 rows × 2 columns</p>\n",
              "</div>"
            ],
            "text/plain": [
              "        T (degC)  rh (%)\n",
              "0          -8.02   93.30\n",
              "1          -8.41   93.40\n",
              "2          -8.51   93.90\n",
              "3          -8.31   94.20\n",
              "4          -8.27   94.10\n",
              "...          ...     ...\n",
              "420546     -4.05   73.10\n",
              "420547     -3.35   69.71\n",
              "420548     -3.16   67.91\n",
              "420549     -4.23   71.80\n",
              "420550     -4.82   75.70\n",
              "\n",
              "[420551 rows x 2 columns]"
            ]
          },
          "metadata": {
            "tags": []
          },
          "execution_count": 35
        }
      ]
    },
    {
      "cell_type": "code",
      "metadata": {
        "colab": {
          "base_uri": "https://localhost:8080/"
        },
        "id": "Nr_5hYCUShRr",
        "outputId": "136c828e-59db-4f4f-a4a8-3880c620ca6b"
      },
      "source": [
        "#Data conversion to a 32-bit float numpy array\n",
        "\n",
        "selected_array=selected_df.to_numpy(dtype=np.float32)   #.astype(np.float32)\n",
        "selected_array"
      ],
      "execution_count": 36,
      "outputs": [
        {
          "output_type": "execute_result",
          "data": {
            "text/plain": [
              "array([[-8.02, 93.3 ],\n",
              "       [-8.41, 93.4 ],\n",
              "       [-8.51, 93.9 ],\n",
              "       ...,\n",
              "       [-3.16, 67.91],\n",
              "       [-4.23, 71.8 ],\n",
              "       [-4.82, 75.7 ]], dtype=float32)"
            ]
          },
          "metadata": {
            "tags": []
          },
          "execution_count": 36
        }
      ]
    },
    {
      "cell_type": "code",
      "metadata": {
        "id": "kpST-ZOSj1Nw"
      },
      "source": [
        "#I define training (70%),validation (10%) and test data set (20%)\n",
        "\n",
        "n=len(selected_array)\n",
        "train_data=selected_array[0:int(n*0.7)]\n",
        "val_data=selected_array[int(n*0.7):int(n*0.8)]\n",
        "test_data = selected_array[int(n*0.8):]\n"
      ],
      "execution_count": 37,
      "outputs": []
    },
    {
      "cell_type": "code",
      "metadata": {
        "id": "TFmfO9jglbgE"
      },
      "source": [
        "#I define mean and standard deviation (for normalization)\n",
        "mean = train_data.mean(axis=0)\n",
        "std = train_data.std(axis=0)\n",
        "\n",
        "#I define the size of the window and Label Options (which is a number)\n",
        "#LABEL_OPTIONS= is a number used to make my model understand if I'm predicting only temperature, only humidity or humidity and temperature together.\n",
        "#              is 0 for temperature, 1 for humidity, 2 for both\n",
        "\n",
        "input_width = 6\n",
        "LABEL_OPTIONS =label_to_predict\n",
        "#LABEL_OPTIONS = args.labels\n"
      ],
      "execution_count": 38,
      "outputs": []
    },
    {
      "cell_type": "markdown",
      "metadata": {
        "id": "4GHPN7iXS00v"
      },
      "source": [
        "##Window Generation\n"
      ]
    },
    {
      "cell_type": "code",
      "metadata": {
        "id": "vteVFROJWOvA"
      },
      "source": [
        "#features: temperature, humidity (x6 values)\n",
        "#one temperature value (the one corresponding to the next time interval)\n",
        "\n",
        "\n",
        "class WindowGenerator:\n",
        "    def __init__(self, input_width, label_options, mean, std):\n",
        "        self.input_width = input_width\n",
        "        self.label_options = label_options\n",
        "        self.mean = tf.reshape(tf.convert_to_tensor(mean), [1, 1, 2])\n",
        "        self.std = tf.reshape(tf.convert_to_tensor(std), [1, 1, 2])\n",
        "\n",
        "    def split_window(self, features):\n",
        "        input_indeces = np.arange(self.input_width)\n",
        "        inputs = features[:, :-1, :]\n",
        "\n",
        "        if self.label_options < 2:\n",
        "            labels = features[:, -1, self.label_options]\n",
        "            labels = tf.expand_dims(labels, -1)\n",
        "            num_labels = 1\n",
        "        else:\n",
        "            labels = features[:, -1, :]\n",
        "            num_labels = 2\n",
        "\n",
        "        inputs.set_shape([None, self.input_width, 2])\n",
        "        labels.set_shape([None, num_labels])\n",
        "\n",
        "        return inputs, labels\n",
        "\n",
        "    def normalize(self, features):\n",
        "        features = (features - self.mean) / (self.std + 1.e-6)\n",
        "\n",
        "        return features\n",
        "\n",
        "    def preprocess(self, features):\n",
        "        inputs, labels = self.split_window(features)\n",
        "        inputs = self.normalize(inputs)\n",
        "\n",
        "        return inputs, labels\n",
        "\n",
        "    def make_dataset(self, data, train):\n",
        "        ds = tf.keras.preprocessing.timeseries_dataset_from_array(\n",
        "                data=data,\n",
        "                targets=None,\n",
        "                sequence_length=input_width+1,\n",
        "                sequence_stride=1,\n",
        "                batch_size=32)\n",
        "        ds = ds.map(self.preprocess)\n",
        "        ds = ds.cache()\n",
        "        if train is True:\n",
        "            ds = ds.shuffle(100, reshuffle_each_iteration=True)\n",
        "\n",
        "        return ds"
      ],
      "execution_count": 39,
      "outputs": []
    },
    {
      "cell_type": "code",
      "metadata": {
        "id": "iqqVtJv4rfDk"
      },
      "source": [
        "generator = WindowGenerator(input_width, LABEL_OPTIONS, mean, std)\n",
        "train_ds = generator.make_dataset(train_data, True)\n",
        "val_ds = generator.make_dataset(val_data, False)\n",
        "test_ds = generator.make_dataset(test_data, False)\n",
        "\n",
        "\n"
      ],
      "execution_count": 40,
      "outputs": []
    },
    {
      "cell_type": "markdown",
      "metadata": {
        "id": "vPuVpKDQTCF4"
      },
      "source": [
        "##Dataset check"
      ]
    },
    {
      "cell_type": "code",
      "metadata": {
        "colab": {
          "base_uri": "https://localhost:8080/"
        },
        "id": "LTTnYu0V20bt",
        "outputId": "7bf00a24-fe65-4e52-bf3f-792e6591ba56"
      },
      "source": [
        "# split datasets into input (X) and output (y) variables\n",
        "\n",
        "#train\n",
        "for x_train,y_train in train_ds.take(1):\n",
        "  print(x_train.shape)\n",
        "  print(y_train.shape)\n",
        "\n",
        "\n",
        "#validation\n",
        "for x_val,y_val in val_ds.take(1):\n",
        "  print(x_val.shape)\n",
        "  print(y_val.shape)\n",
        "\n",
        "\n",
        "#test\n",
        "for x_test,y_test in test_ds.take(1):\n",
        "  print(x_test.shape)\n",
        "  print(y_test.shape)\n"
      ],
      "execution_count": 41,
      "outputs": [
        {
          "output_type": "stream",
          "text": [
            "(32, 6, 2)\n",
            "(32, 2)\n",
            "(32, 6, 2)\n",
            "(32, 2)\n",
            "(32, 6, 2)\n",
            "(32, 2)\n"
          ],
          "name": "stdout"
        }
      ]
    },
    {
      "cell_type": "markdown",
      "metadata": {
        "id": "UICNDxMVtZfc"
      },
      "source": [
        "##Class to measure the MAE separately on the two outputs"
      ]
    },
    {
      "cell_type": "code",
      "metadata": {
        "id": "SQLbxTg0tsxN"
      },
      "source": [
        "class MultiOutputMAE(tf.keras.metrics.Metric):\n",
        "    \n",
        "    def __init__(self, name= 'mean_absolute_error', **kwargs):\n",
        "      super().__init__(name=name, **kwargs)\n",
        "      self.total= self.add_weight('total', initializer='zeros', shape=(2,))\n",
        "      self.count = self.add_weight('count', initializer= 'zeros')\n",
        "    \n",
        "    def update_state(self, y_true, y_pred, sample_weight= None):\n",
        "      error= tf.abs(y_pred - y_true)\n",
        "      error= tf.reduce_mean(error, axis=0)\n",
        "      self.total.assign_add(error)\n",
        "      self.count.assign_add(1.)\n",
        "      return\n",
        "    \n",
        "    def reset_states (self):\n",
        "      self.count.assign(tf.zeros_like(self.count))\n",
        "      self.total.assign(tf.zeros_like(self.total))\n",
        "      return\n",
        "\n",
        "    def result(self):\n",
        "      result = tf.math.divide_no_nan(self.total, self.count)\n",
        "      return result\n"
      ],
      "execution_count": 58,
      "outputs": []
    },
    {
      "cell_type": "markdown",
      "metadata": {
        "id": "0TVo1c1KTGs9"
      },
      "source": [
        "##MPL Model"
      ]
    },
    {
      "cell_type": "code",
      "metadata": {
        "id": "JLyLije4vQbS"
      },
      "source": [
        "#MLP Model definition\n",
        "mlp_model = keras.Sequential([\n",
        "    keras.layers.Flatten(),\n",
        "    keras.layers.Dense(units=128, activation='relu'),\n",
        "    keras.layers.Dense(units=128, activation='relu'),\n",
        "    keras.layers.Dense(units=2) #metti 2 se vuoi fare doppia predizione 1 se ne vuoi fare solo una \n",
        "])"
      ],
      "execution_count": 48,
      "outputs": []
    },
    {
      "cell_type": "code",
      "metadata": {
        "colab": {
          "base_uri": "https://localhost:8080/"
        },
        "id": "0eCHf8kh83q9",
        "outputId": "3489ebd2-bfb0-4685-85d8-e9ba6039e7d2"
      },
      "source": [
        "#Training, evaluation and testing with mlp model\n",
        "\n",
        "\n",
        "mlp_model.compile(loss='mse', optimizer='adam', metrics=['mse'])\n",
        "mlp_model.fit(train_ds, epochs=20)\n"
      ],
      "execution_count": 49,
      "outputs": [
        {
          "output_type": "stream",
          "text": [
            "Epoch 1/20\n",
            "9200/9200 [==============================] - 25s 3ms/step - loss: 43.2935 - mse: 43.2935\n",
            "Epoch 2/20\n",
            "9200/9200 [==============================] - 11s 1ms/step - loss: 1.1471 - mse: 1.1471\n",
            "Epoch 3/20\n",
            "9200/9200 [==============================] - 11s 1ms/step - loss: 1.0126 - mse: 1.0126\n",
            "Epoch 4/20\n",
            "9200/9200 [==============================] - 11s 1ms/step - loss: 0.9365 - mse: 0.9365\n",
            "Epoch 5/20\n",
            "9200/9200 [==============================] - 11s 1ms/step - loss: 0.8783 - mse: 0.8783\n",
            "Epoch 6/20\n",
            "9200/9200 [==============================] - 11s 1ms/step - loss: 0.8383 - mse: 0.8383\n",
            "Epoch 7/20\n",
            "9200/9200 [==============================] - 11s 1ms/step - loss: 0.9441 - mse: 0.9441\n",
            "Epoch 8/20\n",
            "9200/9200 [==============================] - 11s 1ms/step - loss: 0.7889 - mse: 0.7889\n",
            "Epoch 9/20\n",
            "9200/9200 [==============================] - 11s 1ms/step - loss: 0.7683 - mse: 0.7683\n",
            "Epoch 10/20\n",
            "9200/9200 [==============================] - 12s 1ms/step - loss: 0.8093 - mse: 0.8093\n",
            "Epoch 11/20\n",
            "9200/9200 [==============================] - 11s 1ms/step - loss: 0.7260 - mse: 0.7260\n",
            "Epoch 12/20\n",
            "9200/9200 [==============================] - 11s 1ms/step - loss: 0.7136 - mse: 0.7136\n",
            "Epoch 13/20\n",
            "9200/9200 [==============================] - 11s 1ms/step - loss: 0.7326 - mse: 0.7326\n",
            "Epoch 14/20\n",
            "9200/9200 [==============================] - 11s 1ms/step - loss: 0.7247 - mse: 0.7247\n",
            "Epoch 15/20\n",
            "9200/9200 [==============================] - 11s 1ms/step - loss: 0.6981 - mse: 0.6981\n",
            "Epoch 16/20\n",
            "9200/9200 [==============================] - 12s 1ms/step - loss: 0.6832 - mse: 0.6832\n",
            "Epoch 17/20\n",
            "9200/9200 [==============================] - 15s 2ms/step - loss: 0.6812 - mse: 0.6812\n",
            "Epoch 18/20\n",
            "9200/9200 [==============================] - 13s 1ms/step - loss: 0.6626 - mse: 0.6626\n",
            "Epoch 19/20\n",
            "9200/9200 [==============================] - 11s 1ms/step - loss: 0.6576 - mse: 0.6576\n",
            "Epoch 20/20\n",
            "9200/9200 [==============================] - 11s 1ms/step - loss: 0.6801 - mse: 0.6801\n"
          ],
          "name": "stdout"
        },
        {
          "output_type": "execute_result",
          "data": {
            "text/plain": [
              "<tensorflow.python.keras.callbacks.History at 0x7f6f33b2e668>"
            ]
          },
          "metadata": {
            "tags": []
          },
          "execution_count": 49
        }
      ]
    },
    {
      "cell_type": "code",
      "metadata": {
        "colab": {
          "base_uri": "https://localhost:8080/"
        },
        "id": "EIE9p4f0_ksc",
        "outputId": "57968b37-d5d6-4238-8cf1-b6382c944386"
      },
      "source": [
        "#model evaluation on validation set\n",
        "\n",
        "mlp_model.compile(loss='mae', optimizer='adam')\n",
        "val_loss= mlp_model.evaluate(val_ds) "
      ],
      "execution_count": 50,
      "outputs": [
        {
          "output_type": "stream",
          "text": [
            "1315/1315 [==============================] - 3s 3ms/step - loss: 1.0399\n"
          ],
          "name": "stdout"
        }
      ]
    },
    {
      "cell_type": "code",
      "metadata": {
        "colab": {
          "base_uri": "https://localhost:8080/"
        },
        "id": "Gw-5aR4EKEdM",
        "outputId": "57c37186-06bd-4046-89c8-51bde9ff6f62"
      },
      "source": [
        "#test the model\n",
        "\n",
        "mlp_model.compile(loss='mse', optimizer='adam', metrics=[MultiOutputMAE()])\n",
        "#mlp_model.compile(loss='mae', optimizer='adam')\n",
        "test_loss= mlp_model.evaluate(test_ds) \n",
        "\n"
      ],
      "execution_count": 59,
      "outputs": [
        {
          "output_type": "stream",
          "text": [
            "2629/2629 [==============================] - 7s 3ms/step - loss: 1.9254 - mean_absolute_error: 0.9734\n"
          ],
          "name": "stdout"
        }
      ]
    },
    {
      "cell_type": "code",
      "metadata": {
        "colab": {
          "base_uri": "https://localhost:8080/"
        },
        "id": "Iray07evP3w3",
        "outputId": "99299d42-1603-412b-dc48-612b823d61fc"
      },
      "source": [
        "#check \n",
        "predictions = mlp_model.predict(x_test)\n",
        "# summarize the first 5 cases\n",
        "for i in range(5):\n",
        "\tprint('%s => %s (expected %s)' % (x_test[i].numpy().tolist(), predictions[i], y_test[i]))"
      ],
      "execution_count": 60,
      "outputs": [
        {
          "output_type": "stream",
          "text": [
            "[[0.9651238322257996, -0.9859264492988586], [0.9535689353942871, -0.9665994048118591], [0.9293032288551331, -0.9146581292152405], [0.9027267098426819, -0.8609045147895813], [0.8761501312255859, -0.7860122323036194], [0.8553510308265686, -0.7286349534988403]] => [16.757212 63.782104] (expected tf.Tensor([16.27 65.14], shape=(2,), dtype=float32))\n",
            "[[0.9535689353942871, -0.9665994048118591], [0.9293032288551331, -0.9146581292152405], [0.9027267098426819, -0.8609045147895813], [0.8761501312255859, -0.7860122323036194], [0.8553510308265686, -0.7286349534988403], [0.8276189565658569, -0.6501188278198242]] => [16.450716 65.292015] (expected tf.Tensor([16.09 66.12], shape=(2,), dtype=float32))\n",
            "[[0.9293032288551331, -0.9146581292152405], [0.9027267098426819, -0.8609045147895813], [0.8761501312255859, -0.7860122323036194], [0.8553510308265686, -0.7286349534988403], [0.8276189565658569, -0.6501188278198242], [0.8068197965621948, -0.5909294486045837]] => [16.266953 66.05956 ] (expected tf.Tensor([15.98 66.88], shape=(2,), dtype=float32))\n",
            "[[0.9027267098426819, -0.8609045147895813], [0.8761501312255859, -0.7860122323036194], [0.8553510308265686, -0.7286349534988403], [0.8276189565658569, -0.6501188278198242], [0.8068197965621948, -0.5909294486045837], [0.7941091656684875, -0.545028030872345]] => [16.162157 66.72326 ] (expected tf.Tensor([15.82 66.97], shape=(2,), dtype=float32))\n",
            "[[0.8761501312255859, -0.7860122323036194], [0.8553510308265686, -0.7286349534988403], [0.8276189565658569, -0.6501188278198242], [0.8068197965621948, -0.5909294486045837], [0.7941091656684875, -0.545028030872345], [0.7756211161613464, -0.5395920276641846]] => [16.016312 66.68023 ] (expected tf.Tensor([15.87 66.4 ], shape=(2,), dtype=float32))\n"
          ],
          "name": "stdout"
        }
      ]
    },
    {
      "cell_type": "code",
      "metadata": {
        "id": "vwmzZrebNmj5",
        "outputId": "36f5ba82-8e83-44a5-a6de-ab81ffc708f3",
        "colab": {
          "base_uri": "https://localhost:8080/"
        }
      },
      "source": [
        "#number of parameters VS mae\n",
        "\n",
        "mlp_model.summary()"
      ],
      "execution_count": 76,
      "outputs": [
        {
          "output_type": "stream",
          "text": [
            "Model: \"sequential_6\"\n",
            "_________________________________________________________________\n",
            "Layer (type)                 Output Shape              Param #   \n",
            "=================================================================\n",
            "flatten_6 (Flatten)          (None, 12)                0         \n",
            "_________________________________________________________________\n",
            "dense_12 (Dense)             (None, 128)               1664      \n",
            "_________________________________________________________________\n",
            "dense_13 (Dense)             (None, 128)               16512     \n",
            "_________________________________________________________________\n",
            "dense_14 (Dense)             (None, 2)                 258       \n",
            "=================================================================\n",
            "Total params: 18,434\n",
            "Trainable params: 18,434\n",
            "Non-trainable params: 0\n",
            "_________________________________________________________________\n"
          ],
          "name": "stdout"
        }
      ]
    },
    {
      "cell_type": "code",
      "metadata": {
        "id": "Eht3MWf8ZbFb",
        "outputId": "f97396c9-db28-4782-b6a3-4b2d05208f44",
        "colab": {
          "base_uri": "https://localhost:8080/",
          "height": 589
        }
      },
      "source": [
        "x=[0, 16664, 16512,258]\n",
        "y=[0.9734]\n",
        "\n",
        "plt.plot(x,y)"
      ],
      "execution_count": 78,
      "outputs": [
        {
          "output_type": "error",
          "ename": "ValueError",
          "evalue": "ignored",
          "traceback": [
            "\u001b[0;31m---------------------------------------------------------------------------\u001b[0m",
            "\u001b[0;31mValueError\u001b[0m                                Traceback (most recent call last)",
            "\u001b[0;32m<ipython-input-78-21a43b9a07f6>\u001b[0m in \u001b[0;36m<module>\u001b[0;34m()\u001b[0m\n\u001b[1;32m      2\u001b[0m \u001b[0my\u001b[0m\u001b[0;34m=\u001b[0m\u001b[0;34m[\u001b[0m\u001b[0;36m0.9734\u001b[0m\u001b[0;34m]\u001b[0m\u001b[0;34m\u001b[0m\u001b[0;34m\u001b[0m\u001b[0m\n\u001b[1;32m      3\u001b[0m \u001b[0;34m\u001b[0m\u001b[0m\n\u001b[0;32m----> 4\u001b[0;31m \u001b[0mplt\u001b[0m\u001b[0;34m.\u001b[0m\u001b[0mplot\u001b[0m\u001b[0;34m(\u001b[0m\u001b[0mx\u001b[0m\u001b[0;34m,\u001b[0m\u001b[0my\u001b[0m\u001b[0;34m)\u001b[0m\u001b[0;34m\u001b[0m\u001b[0;34m\u001b[0m\u001b[0m\n\u001b[0m",
            "\u001b[0;32m/usr/local/lib/python3.6/dist-packages/matplotlib/pyplot.py\u001b[0m in \u001b[0;36mplot\u001b[0;34m(scalex, scaley, data, *args, **kwargs)\u001b[0m\n\u001b[1;32m   2761\u001b[0m     return gca().plot(\n\u001b[1;32m   2762\u001b[0m         *args, scalex=scalex, scaley=scaley, **({\"data\": data} if data\n\u001b[0;32m-> 2763\u001b[0;31m         is not None else {}), **kwargs)\n\u001b[0m\u001b[1;32m   2764\u001b[0m \u001b[0;34m\u001b[0m\u001b[0m\n\u001b[1;32m   2765\u001b[0m \u001b[0;34m\u001b[0m\u001b[0m\n",
            "\u001b[0;32m/usr/local/lib/python3.6/dist-packages/matplotlib/axes/_axes.py\u001b[0m in \u001b[0;36mplot\u001b[0;34m(self, scalex, scaley, data, *args, **kwargs)\u001b[0m\n\u001b[1;32m   1645\u001b[0m         \"\"\"\n\u001b[1;32m   1646\u001b[0m         \u001b[0mkwargs\u001b[0m \u001b[0;34m=\u001b[0m \u001b[0mcbook\u001b[0m\u001b[0;34m.\u001b[0m\u001b[0mnormalize_kwargs\u001b[0m\u001b[0;34m(\u001b[0m\u001b[0mkwargs\u001b[0m\u001b[0;34m,\u001b[0m \u001b[0mmlines\u001b[0m\u001b[0;34m.\u001b[0m\u001b[0mLine2D\u001b[0m\u001b[0;34m)\u001b[0m\u001b[0;34m\u001b[0m\u001b[0;34m\u001b[0m\u001b[0m\n\u001b[0;32m-> 1647\u001b[0;31m         \u001b[0mlines\u001b[0m \u001b[0;34m=\u001b[0m \u001b[0;34m[\u001b[0m\u001b[0;34m*\u001b[0m\u001b[0mself\u001b[0m\u001b[0;34m.\u001b[0m\u001b[0m_get_lines\u001b[0m\u001b[0;34m(\u001b[0m\u001b[0;34m*\u001b[0m\u001b[0margs\u001b[0m\u001b[0;34m,\u001b[0m \u001b[0mdata\u001b[0m\u001b[0;34m=\u001b[0m\u001b[0mdata\u001b[0m\u001b[0;34m,\u001b[0m \u001b[0;34m**\u001b[0m\u001b[0mkwargs\u001b[0m\u001b[0;34m)\u001b[0m\u001b[0;34m]\u001b[0m\u001b[0;34m\u001b[0m\u001b[0;34m\u001b[0m\u001b[0m\n\u001b[0m\u001b[1;32m   1648\u001b[0m         \u001b[0;32mfor\u001b[0m \u001b[0mline\u001b[0m \u001b[0;32min\u001b[0m \u001b[0mlines\u001b[0m\u001b[0;34m:\u001b[0m\u001b[0;34m\u001b[0m\u001b[0;34m\u001b[0m\u001b[0m\n\u001b[1;32m   1649\u001b[0m             \u001b[0mself\u001b[0m\u001b[0;34m.\u001b[0m\u001b[0madd_line\u001b[0m\u001b[0;34m(\u001b[0m\u001b[0mline\u001b[0m\u001b[0;34m)\u001b[0m\u001b[0;34m\u001b[0m\u001b[0;34m\u001b[0m\u001b[0m\n",
            "\u001b[0;32m/usr/local/lib/python3.6/dist-packages/matplotlib/axes/_base.py\u001b[0m in \u001b[0;36m__call__\u001b[0;34m(self, *args, **kwargs)\u001b[0m\n\u001b[1;32m    214\u001b[0m                 \u001b[0mthis\u001b[0m \u001b[0;34m+=\u001b[0m \u001b[0margs\u001b[0m\u001b[0;34m[\u001b[0m\u001b[0;36m0\u001b[0m\u001b[0;34m]\u001b[0m\u001b[0;34m,\u001b[0m\u001b[0;34m\u001b[0m\u001b[0;34m\u001b[0m\u001b[0m\n\u001b[1;32m    215\u001b[0m                 \u001b[0margs\u001b[0m \u001b[0;34m=\u001b[0m \u001b[0margs\u001b[0m\u001b[0;34m[\u001b[0m\u001b[0;36m1\u001b[0m\u001b[0;34m:\u001b[0m\u001b[0;34m]\u001b[0m\u001b[0;34m\u001b[0m\u001b[0;34m\u001b[0m\u001b[0m\n\u001b[0;32m--> 216\u001b[0;31m             \u001b[0;32myield\u001b[0m \u001b[0;32mfrom\u001b[0m \u001b[0mself\u001b[0m\u001b[0;34m.\u001b[0m\u001b[0m_plot_args\u001b[0m\u001b[0;34m(\u001b[0m\u001b[0mthis\u001b[0m\u001b[0;34m,\u001b[0m \u001b[0mkwargs\u001b[0m\u001b[0;34m)\u001b[0m\u001b[0;34m\u001b[0m\u001b[0;34m\u001b[0m\u001b[0m\n\u001b[0m\u001b[1;32m    217\u001b[0m \u001b[0;34m\u001b[0m\u001b[0m\n\u001b[1;32m    218\u001b[0m     \u001b[0;32mdef\u001b[0m \u001b[0mget_next_color\u001b[0m\u001b[0;34m(\u001b[0m\u001b[0mself\u001b[0m\u001b[0;34m)\u001b[0m\u001b[0;34m:\u001b[0m\u001b[0;34m\u001b[0m\u001b[0;34m\u001b[0m\u001b[0m\n",
            "\u001b[0;32m/usr/local/lib/python3.6/dist-packages/matplotlib/axes/_base.py\u001b[0m in \u001b[0;36m_plot_args\u001b[0;34m(self, tup, kwargs)\u001b[0m\n\u001b[1;32m    340\u001b[0m \u001b[0;34m\u001b[0m\u001b[0m\n\u001b[1;32m    341\u001b[0m         \u001b[0;32mif\u001b[0m \u001b[0mx\u001b[0m\u001b[0;34m.\u001b[0m\u001b[0mshape\u001b[0m\u001b[0;34m[\u001b[0m\u001b[0;36m0\u001b[0m\u001b[0;34m]\u001b[0m \u001b[0;34m!=\u001b[0m \u001b[0my\u001b[0m\u001b[0;34m.\u001b[0m\u001b[0mshape\u001b[0m\u001b[0;34m[\u001b[0m\u001b[0;36m0\u001b[0m\u001b[0;34m]\u001b[0m\u001b[0;34m:\u001b[0m\u001b[0;34m\u001b[0m\u001b[0;34m\u001b[0m\u001b[0m\n\u001b[0;32m--> 342\u001b[0;31m             raise ValueError(f\"x and y must have same first dimension, but \"\n\u001b[0m\u001b[1;32m    343\u001b[0m                              f\"have shapes {x.shape} and {y.shape}\")\n\u001b[1;32m    344\u001b[0m         \u001b[0;32mif\u001b[0m \u001b[0mx\u001b[0m\u001b[0;34m.\u001b[0m\u001b[0mndim\u001b[0m \u001b[0;34m>\u001b[0m \u001b[0;36m2\u001b[0m \u001b[0;32mor\u001b[0m \u001b[0my\u001b[0m\u001b[0;34m.\u001b[0m\u001b[0mndim\u001b[0m \u001b[0;34m>\u001b[0m \u001b[0;36m2\u001b[0m\u001b[0;34m:\u001b[0m\u001b[0;34m\u001b[0m\u001b[0;34m\u001b[0m\u001b[0m\n",
            "\u001b[0;31mValueError\u001b[0m: x and y must have same first dimension, but have shapes (4,) and (1,)"
          ]
        },
        {
          "output_type": "display_data",
          "data": {
            "image/png": "[encoded data removed]",
            "text/plain": [
              "<Figure size 432x288 with 1 Axes>"
            ]
          },
          "metadata": {
            "tags": [],
            "needs_background": "light"
          }
        }
      ]
    },
    {
      "cell_type": "markdown",
      "metadata": {
        "id": "hh4ThJ5IciM1"
      },
      "source": [
        "#CNN 1D"
      ]
    },
    {
      "cell_type": "code",
      "metadata": {
        "id": "GMsWLPIS0tyN"
      },
      "source": [
        "#CNN_1D Model definition\n",
        "\n",
        "cnn_1d_model = keras.Sequential([\n",
        "    keras.layers.Conv1D(filters=64,kernel_size=3, activation='relu'),\n",
        "    keras.layers.Flatten(),\n",
        "    keras.layers.Dense(units=64, activation='relu'),\n",
        "    keras.layers.Dense(units=2)\n",
        "])"
      ],
      "execution_count": 61,
      "outputs": []
    },
    {
      "cell_type": "code",
      "metadata": {
        "id": "1o0nawfugCAg",
        "outputId": "59d3c95c-0968-4ce5-a669-76baefb1ab7c",
        "colab": {
          "base_uri": "https://localhost:8080/"
        }
      },
      "source": [
        "#Training, evaluation and testing with mlp model\n",
        "\n",
        "cnn_1d_model.compile(loss='mse', optimizer='adam', metrics=['mse'])\n",
        "cnn_1d_model.fit(train_ds, epochs=20)"
      ],
      "execution_count": 62,
      "outputs": [
        {
          "output_type": "stream",
          "text": [
            "Epoch 1/20\n",
            "9200/9200 [==============================] - 12s 1ms/step - loss: 40.6813 - mse: 40.6813\n",
            "Epoch 2/20\n",
            "9200/9200 [==============================] - 12s 1ms/step - loss: 0.9923 - mse: 0.9923\n",
            "Epoch 3/20\n",
            "9200/9200 [==============================] - 12s 1ms/step - loss: 0.8140 - mse: 0.8140\n",
            "Epoch 4/20\n",
            "9200/9200 [==============================] - 12s 1ms/step - loss: 0.8106 - mse: 0.8106\n",
            "Epoch 5/20\n",
            "9200/9200 [==============================] - 13s 1ms/step - loss: 0.7256 - mse: 0.7256\n",
            "Epoch 6/20\n",
            "9200/9200 [==============================] - 15s 2ms/step - loss: 0.7583 - mse: 0.7583\n",
            "Epoch 7/20\n",
            "9200/9200 [==============================] - 17s 2ms/step - loss: 0.7183 - mse: 0.7183\n",
            "Epoch 8/20\n",
            "9200/9200 [==============================] - 14s 1ms/step - loss: 0.7266 - mse: 0.7266\n",
            "Epoch 9/20\n",
            "9200/9200 [==============================] - 14s 1ms/step - loss: 0.7003 - mse: 0.7003\n",
            "Epoch 10/20\n",
            "9200/9200 [==============================] - 14s 1ms/step - loss: 0.6632 - mse: 0.6632\n",
            "Epoch 11/20\n",
            "9200/9200 [==============================] - 14s 2ms/step - loss: 0.6748 - mse: 0.6748\n",
            "Epoch 12/20\n",
            "9200/9200 [==============================] - 14s 2ms/step - loss: 0.6839 - mse: 0.6839\n",
            "Epoch 13/20\n",
            "9200/9200 [==============================] - 15s 2ms/step - loss: 0.6468 - mse: 0.6468\n",
            "Epoch 14/20\n",
            "9200/9200 [==============================] - 14s 2ms/step - loss: 0.6522 - mse: 0.6522\n",
            "Epoch 15/20\n",
            "9200/9200 [==============================] - 14s 2ms/step - loss: 0.6419 - mse: 0.6419\n",
            "Epoch 16/20\n",
            "9200/9200 [==============================] - 14s 2ms/step - loss: 0.6283 - mse: 0.6283\n",
            "Epoch 17/20\n",
            "9200/9200 [==============================] - 14s 2ms/step - loss: 0.6316 - mse: 0.6316\n",
            "Epoch 18/20\n",
            "9200/9200 [==============================] - 14s 2ms/step - loss: 0.6311 - mse: 0.6311\n",
            "Epoch 19/20\n",
            "9200/9200 [==============================] - 14s 1ms/step - loss: 0.6310 - mse: 0.6310\n",
            "Epoch 20/20\n",
            "9200/9200 [==============================] - 14s 1ms/step - loss: 0.6210 - mse: 0.6210\n"
          ],
          "name": "stdout"
        },
        {
          "output_type": "execute_result",
          "data": {
            "text/plain": [
              "<tensorflow.python.keras.callbacks.History at 0x7f6f33045a20>"
            ]
          },
          "metadata": {
            "tags": []
          },
          "execution_count": 62
        }
      ]
    },
    {
      "cell_type": "code",
      "metadata": {
        "id": "WuEGq6spgB11",
        "outputId": "eddc9dce-7f60-4470-9fce-0f1970faa782",
        "colab": {
          "base_uri": "https://localhost:8080/"
        }
      },
      "source": [
        "#model evaluation on validation set\n",
        "\n",
        "cnn_1d_model.compile(loss='mae', optimizer='adam')\n",
        "val_loss= cnn_1d_model.evaluate(val_ds) "
      ],
      "execution_count": 63,
      "outputs": [
        {
          "output_type": "stream",
          "text": [
            "1315/1315 [==============================] - 1s 854us/step - loss: 1.0475\n"
          ],
          "name": "stdout"
        }
      ]
    },
    {
      "cell_type": "code",
      "metadata": {
        "id": "vPmEEOdwgS30",
        "outputId": "39690d7f-47a8-468a-df6e-28458dfa00b2",
        "colab": {
          "base_uri": "https://localhost:8080/"
        }
      },
      "source": [
        "#test the model\n",
        "#model evaluation on validation set\n",
        "\n",
        "cnn_1d_model.compile(loss='mse', optimizer='adam', metrics=[MultiOutputMAE()])\n",
        "#cnn_1d_model.compile(loss='mae', optimizer='adam')\n",
        "test_loss= cnn_1d_model.evaluate(test_ds) "
      ],
      "execution_count": 64,
      "outputs": [
        {
          "output_type": "stream",
          "text": [
            "2629/2629 [==============================] - 2s 901us/step - loss: 2.9320 - mean_absolute_error: 1.2097\n"
          ],
          "name": "stdout"
        }
      ]
    },
    {
      "cell_type": "code",
      "metadata": {
        "id": "Uzygry5mg_q8",
        "outputId": "b95d30a7-b06b-4c82-96a1-eecfab946cdb",
        "colab": {
          "base_uri": "https://localhost:8080/"
        }
      },
      "source": [
        "#check \n",
        "predictions = cnn_1d_model.predict(x_test)\n",
        "# summarize the first 5 cases\n",
        "for i in range(5):\n",
        "\tprint('%s => %s (expected %s)' % (x_test[i].numpy().tolist(), predictions[i], y_test[i]))"
      ],
      "execution_count": 65,
      "outputs": [
        {
          "output_type": "stream",
          "text": [
            "WARNING:tensorflow:5 out of the last 7 calls to <function Model.make_predict_function.<locals>.predict_function at 0x7f6f326e5bf8> triggered tf.function retracing. Tracing is expensive and the excessive number of tracings could be due to (1) creating @tf.function repeatedly in a loop, (2) passing tensors with different shapes, (3) passing Python objects instead of tensors. For (1), please define your @tf.function outside of the loop. For (2), @tf.function has experimental_relax_shapes=True option that relaxes argument shapes that can avoid unnecessary retracing. For (3), please refer to https://www.tensorflow.org/tutorials/customization/performance#python_or_tensor_args and https://www.tensorflow.org/api_docs/python/tf/function for  more details.\n",
            "[[0.9651238322257996, -0.9859264492988586], [0.9535689353942871, -0.9665994048118591], [0.9293032288551331, -0.9146581292152405], [0.9027267098426819, -0.8609045147895813], [0.8761501312255859, -0.7860122323036194], [0.8553510308265686, -0.7286349534988403]] => [15.284236 62.10573 ] (expected tf.Tensor([16.27 65.14], shape=(2,), dtype=float32))\n",
            "[[0.9535689353942871, -0.9665994048118591], [0.9293032288551331, -0.9146581292152405], [0.9027267098426819, -0.8609045147895813], [0.8761501312255859, -0.7860122323036194], [0.8553510308265686, -0.7286349534988403], [0.8276189565658569, -0.6501188278198242]] => [15.020252 63.774246] (expected tf.Tensor([16.09 66.12], shape=(2,), dtype=float32))\n",
            "[[0.9293032288551331, -0.9146581292152405], [0.9027267098426819, -0.8609045147895813], [0.8761501312255859, -0.7860122323036194], [0.8553510308265686, -0.7286349534988403], [0.8276189565658569, -0.6501188278198242], [0.8068197965621948, -0.5909294486045837]] => [14.912478 64.62091 ] (expected tf.Tensor([15.98 66.88], shape=(2,), dtype=float32))\n",
            "[[0.9027267098426819, -0.8609045147895813], [0.8761501312255859, -0.7860122323036194], [0.8553510308265686, -0.7286349534988403], [0.8276189565658569, -0.6501188278198242], [0.8068197965621948, -0.5909294486045837], [0.7941091656684875, -0.545028030872345]] => [14.84821 65.40954] (expected tf.Tensor([15.82 66.97], shape=(2,), dtype=float32))\n",
            "[[0.8761501312255859, -0.7860122323036194], [0.8553510308265686, -0.7286349534988403], [0.8276189565658569, -0.6501188278198242], [0.8068197965621948, -0.5909294486045837], [0.7941091656684875, -0.545028030872345], [0.7756211161613464, -0.5395920276641846]] => [14.740882 65.44958 ] (expected tf.Tensor([15.87 66.4 ], shape=(2,), dtype=float32))\n"
          ],
          "name": "stdout"
        }
      ]
    },
    {
      "cell_type": "markdown",
      "metadata": {
        "id": "OKUnLyEYiLPh"
      },
      "source": [
        "#LSTM"
      ]
    },
    {
      "cell_type": "code",
      "metadata": {
        "id": "ctVc9Z6o2e6O"
      },
      "source": [
        "#LSTM Model definition\n",
        "\n",
        "lstm_model = keras.Sequential([\n",
        "    keras.layers.LSTM(units=64),\n",
        "    keras.layers.Flatten(),\n",
        "    keras.layers.Dense(units=2)\n",
        "])"
      ],
      "execution_count": 66,
      "outputs": []
    },
    {
      "cell_type": "code",
      "metadata": {
        "id": "7ShNPdmMiGF3",
        "outputId": "8adb4a8b-aff1-4f7f-86e0-1a49b749b18d",
        "colab": {
          "base_uri": "https://localhost:8080/"
        }
      },
      "source": [
        "#Training, evaluation and testing with mlp model\n",
        "\n",
        "lstm_model.compile(loss='mse', optimizer='adam', metrics=['mse'])\n",
        "lstm_model.fit(train_ds, epochs=20)"
      ],
      "execution_count": 67,
      "outputs": [
        {
          "output_type": "stream",
          "text": [
            "Epoch 1/20\n",
            "9200/9200 [==============================] - 37s 4ms/step - loss: 154.0658 - mse: 154.0658\n",
            "Epoch 2/20\n",
            "9200/9200 [==============================] - 36s 4ms/step - loss: 1.2585 - mse: 1.2585\n",
            "Epoch 3/20\n",
            "9200/9200 [==============================] - 36s 4ms/step - loss: 0.7202 - mse: 0.7202\n",
            "Epoch 4/20\n",
            "9200/9200 [==============================] - 35s 4ms/step - loss: 0.6459 - mse: 0.6459\n",
            "Epoch 5/20\n",
            "9200/9200 [==============================] - 36s 4ms/step - loss: 0.6019 - mse: 0.6019\n",
            "Epoch 6/20\n",
            "9200/9200 [==============================] - 38s 4ms/step - loss: 0.5812 - mse: 0.5812\n",
            "Epoch 7/20\n",
            "9200/9200 [==============================] - 35s 4ms/step - loss: 0.5702 - mse: 0.5702\n",
            "Epoch 8/20\n",
            "9200/9200 [==============================] - 34s 4ms/step - loss: 0.5649 - mse: 0.5649\n",
            "Epoch 9/20\n",
            "9200/9200 [==============================] - 34s 4ms/step - loss: 0.5566 - mse: 0.5566\n",
            "Epoch 10/20\n",
            "9200/9200 [==============================] - 34s 4ms/step - loss: 0.5526 - mse: 0.5526\n",
            "Epoch 11/20\n",
            "9200/9200 [==============================] - 35s 4ms/step - loss: 0.5506 - mse: 0.5506\n",
            "Epoch 12/20\n",
            "9200/9200 [==============================] - 40s 4ms/step - loss: 0.5468 - mse: 0.5468\n",
            "Epoch 13/20\n",
            "9200/9200 [==============================] - 35s 4ms/step - loss: 0.5437 - mse: 0.5437\n",
            "Epoch 14/20\n",
            "9200/9200 [==============================] - 34s 4ms/step - loss: 0.5431 - mse: 0.5431\n",
            "Epoch 15/20\n",
            "9200/9200 [==============================] - 35s 4ms/step - loss: 0.5416 - mse: 0.5416\n",
            "Epoch 16/20\n",
            "9200/9200 [==============================] - 34s 4ms/step - loss: 0.5378 - mse: 0.5378\n",
            "Epoch 17/20\n",
            "9200/9200 [==============================] - 34s 4ms/step - loss: 0.5362 - mse: 0.5362\n",
            "Epoch 18/20\n",
            "9200/9200 [==============================] - 33s 4ms/step - loss: 0.5344 - mse: 0.5344\n",
            "Epoch 19/20\n",
            "9200/9200 [==============================] - 33s 4ms/step - loss: 0.5328 - mse: 0.5328\n",
            "Epoch 20/20\n",
            "9200/9200 [==============================] - 34s 4ms/step - loss: 0.5313 - mse: 0.5313\n"
          ],
          "name": "stdout"
        },
        {
          "output_type": "execute_result",
          "data": {
            "text/plain": [
              "<tensorflow.python.keras.callbacks.History at 0x7f6f326a2c18>"
            ]
          },
          "metadata": {
            "tags": []
          },
          "execution_count": 67
        }
      ]
    },
    {
      "cell_type": "code",
      "metadata": {
        "id": "rPWwiXd4iZTt",
        "outputId": "eb832b6e-27fc-4ba4-800c-890d7c784e4d",
        "colab": {
          "base_uri": "https://localhost:8080/"
        }
      },
      "source": [
        "#model evaluation on validation set\n",
        "\n",
        "lstm_model.compile(loss='mae', optimizer='adam')\n",
        "val_loss= lstm_model.evaluate(val_ds) "
      ],
      "execution_count": 68,
      "outputs": [
        {
          "output_type": "stream",
          "text": [
            "1315/1315 [==============================] - 2s 1ms/step - loss: 0.3680\n"
          ],
          "name": "stdout"
        }
      ]
    },
    {
      "cell_type": "code",
      "metadata": {
        "id": "NXv3oe7qiZH8",
        "outputId": "3eb793ce-6b72-4762-cd0d-7ea23fcb846f",
        "colab": {
          "base_uri": "https://localhost:8080/"
        }
      },
      "source": [
        "#test the model\n",
        "\n",
        "lstm_model.compile(loss='mse', optimizer='adam', metrics=[MultiOutputMAE()])\n",
        "#lstm_model.compile(loss='mae', optimizer='adam')\n",
        "test_loss= lstm_model.evaluate(test_ds) "
      ],
      "execution_count": 69,
      "outputs": [
        {
          "output_type": "stream",
          "text": [
            "2629/2629 [==============================] - 4s 1ms/step - loss: 0.5440 - mean_absolute_error: 0.3951\n"
          ],
          "name": "stdout"
        }
      ]
    },
    {
      "cell_type": "code",
      "metadata": {
        "id": "vT14RaTqiY9F",
        "outputId": "24f71ebb-c042-4507-c76e-ccd15c6eaaf9",
        "colab": {
          "base_uri": "https://localhost:8080/"
        }
      },
      "source": [
        "#check \n",
        "predictions = lstm_model.predict(x_test)\n",
        "# summarize the first 5 cases\n",
        "for i in range(5):\n",
        "\tprint('%s => %s (expected %s)' % (x_test[i].numpy().tolist(), predictions[i], y_test[i]))"
      ],
      "execution_count": 70,
      "outputs": [
        {
          "output_type": "stream",
          "text": [
            "WARNING:tensorflow:6 out of the last 8 calls to <function Model.make_predict_function.<locals>.predict_function at 0x7f6f38241620> triggered tf.function retracing. Tracing is expensive and the excessive number of tracings could be due to (1) creating @tf.function repeatedly in a loop, (2) passing tensors with different shapes, (3) passing Python objects instead of tensors. For (1), please define your @tf.function outside of the loop. For (2), @tf.function has experimental_relax_shapes=True option that relaxes argument shapes that can avoid unnecessary retracing. For (3), please refer to https://www.tensorflow.org/tutorials/customization/performance#python_or_tensor_args and https://www.tensorflow.org/api_docs/python/tf/function for  more details.\n",
            "[[0.9651238322257996, -0.9859264492988586], [0.9535689353942871, -0.9665994048118591], [0.9293032288551331, -0.9146581292152405], [0.9027267098426819, -0.8609045147895813], [0.8761501312255859, -0.7860122323036194], [0.8553510308265686, -0.7286349534988403]] => [16.377832 64.54888 ] (expected tf.Tensor([16.27 65.14], shape=(2,), dtype=float32))\n",
            "[[0.9535689353942871, -0.9665994048118591], [0.9293032288551331, -0.9146581292152405], [0.9027267098426819, -0.8609045147895813], [0.8761501312255859, -0.7860122323036194], [0.8553510308265686, -0.7286349534988403], [0.8276189565658569, -0.6501188278198242]] => [16.072956 66.11512 ] (expected tf.Tensor([16.09 66.12], shape=(2,), dtype=float32))\n",
            "[[0.9293032288551331, -0.9146581292152405], [0.9027267098426819, -0.8609045147895813], [0.8761501312255859, -0.7860122323036194], [0.8553510308265686, -0.7286349534988403], [0.8276189565658569, -0.6501188278198242], [0.8068197965621948, -0.5909294486045837]] => [15.954962 66.83995 ] (expected tf.Tensor([15.98 66.88], shape=(2,), dtype=float32))\n",
            "[[0.9027267098426819, -0.8609045147895813], [0.8761501312255859, -0.7860122323036194], [0.8553510308265686, -0.7286349534988403], [0.8276189565658569, -0.6501188278198242], [0.8068197965621948, -0.5909294486045837], [0.7941091656684875, -0.545028030872345]] => [15.865786 67.4994  ] (expected tf.Tensor([15.82 66.97], shape=(2,), dtype=float32))\n",
            "[[0.8761501312255859, -0.7860122323036194], [0.8553510308265686, -0.7286349534988403], [0.8276189565658569, -0.6501188278198242], [0.8068197965621948, -0.5909294486045837], [0.7941091656684875, -0.545028030872345], [0.7756211161613464, -0.5395920276641846]] => [15.705801 67.470566] (expected tf.Tensor([15.87 66.4 ], shape=(2,), dtype=float32))\n"
          ],
          "name": "stdout"
        }
      ]
    },
    {
      "cell_type": "markdown",
      "metadata": {
        "id": "7eYgO8vdrkZu"
      },
      "source": [
        "#Save models"
      ]
    },
    {
      "cell_type": "code",
      "metadata": {
        "id": "C9EYHdMsn_Tt"
      },
      "source": [
        "mlp_model.save('mpl_model.h5')\n",
        "cnn_1d_model.save('cnn_1d_model.h5')\n",
        "lstm_model.save('lstm_model.h5') "
      ],
      "execution_count": 72,
      "outputs": []
    }
  ]
}
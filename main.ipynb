{
  "nbformat": 4,
  "nbformat_minor": 0,
  "metadata": {
    "colab": {
      "name": "iOT_lab3.ipynb",
      "provenance": [],
      "authorship_tag": "ABX9TyO5CObr2ncKahICTajRsn8e",
      "include_colab_link": true
    },
    "kernelspec": {
      "name": "python3",
      "display_name": "Python 3"
    }
  },
  "cells": [
    {
      "cell_type": "markdown",
      "metadata": {
        "id": "view-in-github",
        "colab_type": "text"
      },
      "source": [
        "<a href=\"https://colab.research.google.com/github/ele9996/Temperature-and-Humidity-forecasting/blob/main/main.ipynb\" target=\"_parent\"><img src=\"https://colab.research.google.com/assets/colab-badge.svg\" alt=\"Open In Colab\"/></a>"
      ]
    },
    {
      "cell_type": "markdown",
      "metadata": {
        "id": "PgFFC76SNVvD"
      },
      "source": [
        "#Temperature and humidity forecasting"
      ]
    },
    {
      "cell_type": "code",
      "metadata": {
        "id": "t0FttZjuTB08"
      },
      "source": [
        "import tensorflow as tf\n",
        "import numpy as np\n",
        "from tensorflow import keras\n",
        "import pandas as pd\n",
        "import matplotlib.pyplot as plt\n",
        "import argparse\n",
        "import os\n",
        "from zipfile import ZipFile"
      ],
      "execution_count": 2,
      "outputs": []
    },
    {
      "cell_type": "code",
      "metadata": {
        "id": "fo34_B25dfCU"
      },
      "source": [
        "seed = 42\n",
        "tf.random.set_seed(seed)\n",
        "np.random.seed(seed)"
      ],
      "execution_count": 3,
      "outputs": []
    },
    {
      "cell_type": "code",
      "metadata": {
        "id": "Te56lo9wmebe"
      },
      "source": [
        "#parser = argparse.ArgumentParser()\n",
        "#parser.add_argument('--model', type=str, required=True, help='model name')\n",
        "#parser.add_argument('--labels', type=int, required=True, help='model output')\n",
        "#args = parser.parse_args()\n",
        "\n",
        "#per prova\n",
        "label_to_predict= 2\n",
        "model_name= \"my_model\""
      ],
      "execution_count": 4,
      "outputs": []
    },
    {
      "cell_type": "markdown",
      "metadata": {
        "id": "JEvUcAkrRcf_"
      },
      "source": [
        "##Import Dataset"
      ]
    },
    {
      "cell_type": "code",
      "metadata": {
        "colab": {
          "base_uri": "https://localhost:8080/",
          "height": 620
        },
        "id": "JzQev5UmNTTy",
        "outputId": "392788e2-972c-4804-af7c-8b75ff40e9cd"
      },
      "source": [
        "uri = \"https://storage.googleapis.com/tensorflow/tf-keras-datasets/jena_climate_2009_2016.csv.zip\"\n",
        "zip_path = keras.utils.get_file(origin=uri, fname=\"jena_climate_2009_2016.csv.zip\")\n",
        "zip_file = ZipFile(zip_path)\n",
        "zip_file.extractall()\n",
        "csv_path = \"jena_climate_2009_2016.csv\"\n",
        "\n",
        "df = pd.read_csv(csv_path)\n",
        "df"
      ],
      "execution_count": 5,
      "outputs": [
        {
          "output_type": "stream",
          "text": [
            "Downloading data from https://storage.googleapis.com/tensorflow/tf-keras-datasets/jena_climate_2009_2016.csv.zip\n",
            "13574144/13568290 [==============================] - 1s 0us/step\n"
          ],
          "name": "stdout"
        },
        {
          "output_type": "execute_result",
          "data": {
            "text/html": [
              "<div>\n",
              "<style scoped>\n",
              "    .dataframe tbody tr th:only-of-type {\n",
              "        vertical-align: middle;\n",
              "    }\n",
              "\n",
              "    .dataframe tbody tr th {\n",
              "        vertical-align: top;\n",
              "    }\n",
              "\n",
              "    .dataframe thead th {\n",
              "        text-align: right;\n",
              "    }\n",
              "</style>\n",
              "<table border=\"1\" class=\"dataframe\">\n",
              "  <thead>\n",
              "    <tr style=\"text-align: right;\">\n",
              "      <th></th>\n",
              "      <th>Date Time</th>\n",
              "      <th>p (mbar)</th>\n",
              "      <th>T (degC)</th>\n",
              "      <th>Tpot (K)</th>\n",
              "      <th>Tdew (degC)</th>\n",
              "      <th>rh (%)</th>\n",
              "      <th>VPmax (mbar)</th>\n",
              "      <th>VPact (mbar)</th>\n",
              "      <th>VPdef (mbar)</th>\n",
              "      <th>sh (g/kg)</th>\n",
              "      <th>H2OC (mmol/mol)</th>\n",
              "      <th>rho (g/m**3)</th>\n",
              "      <th>wv (m/s)</th>\n",
              "      <th>max. wv (m/s)</th>\n",
              "      <th>wd (deg)</th>\n",
              "    </tr>\n",
              "  </thead>\n",
              "  <tbody>\n",
              "    <tr>\n",
              "      <th>0</th>\n",
              "      <td>01.01.2009 00:10:00</td>\n",
              "      <td>996.52</td>\n",
              "      <td>-8.02</td>\n",
              "      <td>265.40</td>\n",
              "      <td>-8.90</td>\n",
              "      <td>93.30</td>\n",
              "      <td>3.33</td>\n",
              "      <td>3.11</td>\n",
              "      <td>0.22</td>\n",
              "      <td>1.94</td>\n",
              "      <td>3.12</td>\n",
              "      <td>1307.75</td>\n",
              "      <td>1.03</td>\n",
              "      <td>1.75</td>\n",
              "      <td>152.3</td>\n",
              "    </tr>\n",
              "    <tr>\n",
              "      <th>1</th>\n",
              "      <td>01.01.2009 00:20:00</td>\n",
              "      <td>996.57</td>\n",
              "      <td>-8.41</td>\n",
              "      <td>265.01</td>\n",
              "      <td>-9.28</td>\n",
              "      <td>93.40</td>\n",
              "      <td>3.23</td>\n",
              "      <td>3.02</td>\n",
              "      <td>0.21</td>\n",
              "      <td>1.89</td>\n",
              "      <td>3.03</td>\n",
              "      <td>1309.80</td>\n",
              "      <td>0.72</td>\n",
              "      <td>1.50</td>\n",
              "      <td>136.1</td>\n",
              "    </tr>\n",
              "    <tr>\n",
              "      <th>2</th>\n",
              "      <td>01.01.2009 00:30:00</td>\n",
              "      <td>996.53</td>\n",
              "      <td>-8.51</td>\n",
              "      <td>264.91</td>\n",
              "      <td>-9.31</td>\n",
              "      <td>93.90</td>\n",
              "      <td>3.21</td>\n",
              "      <td>3.01</td>\n",
              "      <td>0.20</td>\n",
              "      <td>1.88</td>\n",
              "      <td>3.02</td>\n",
              "      <td>1310.24</td>\n",
              "      <td>0.19</td>\n",
              "      <td>0.63</td>\n",
              "      <td>171.6</td>\n",
              "    </tr>\n",
              "    <tr>\n",
              "      <th>3</th>\n",
              "      <td>01.01.2009 00:40:00</td>\n",
              "      <td>996.51</td>\n",
              "      <td>-8.31</td>\n",
              "      <td>265.12</td>\n",
              "      <td>-9.07</td>\n",
              "      <td>94.20</td>\n",
              "      <td>3.26</td>\n",
              "      <td>3.07</td>\n",
              "      <td>0.19</td>\n",
              "      <td>1.92</td>\n",
              "      <td>3.08</td>\n",
              "      <td>1309.19</td>\n",
              "      <td>0.34</td>\n",
              "      <td>0.50</td>\n",
              "      <td>198.0</td>\n",
              "    </tr>\n",
              "    <tr>\n",
              "      <th>4</th>\n",
              "      <td>01.01.2009 00:50:00</td>\n",
              "      <td>996.51</td>\n",
              "      <td>-8.27</td>\n",
              "      <td>265.15</td>\n",
              "      <td>-9.04</td>\n",
              "      <td>94.10</td>\n",
              "      <td>3.27</td>\n",
              "      <td>3.08</td>\n",
              "      <td>0.19</td>\n",
              "      <td>1.92</td>\n",
              "      <td>3.09</td>\n",
              "      <td>1309.00</td>\n",
              "      <td>0.32</td>\n",
              "      <td>0.63</td>\n",
              "      <td>214.3</td>\n",
              "    </tr>\n",
              "    <tr>\n",
              "      <th>...</th>\n",
              "      <td>...</td>\n",
              "      <td>...</td>\n",
              "      <td>...</td>\n",
              "      <td>...</td>\n",
              "      <td>...</td>\n",
              "      <td>...</td>\n",
              "      <td>...</td>\n",
              "      <td>...</td>\n",
              "      <td>...</td>\n",
              "      <td>...</td>\n",
              "      <td>...</td>\n",
              "      <td>...</td>\n",
              "      <td>...</td>\n",
              "      <td>...</td>\n",
              "      <td>...</td>\n",
              "    </tr>\n",
              "    <tr>\n",
              "      <th>420546</th>\n",
              "      <td>31.12.2016 23:20:00</td>\n",
              "      <td>1000.07</td>\n",
              "      <td>-4.05</td>\n",
              "      <td>269.10</td>\n",
              "      <td>-8.13</td>\n",
              "      <td>73.10</td>\n",
              "      <td>4.52</td>\n",
              "      <td>3.30</td>\n",
              "      <td>1.22</td>\n",
              "      <td>2.06</td>\n",
              "      <td>3.30</td>\n",
              "      <td>1292.98</td>\n",
              "      <td>0.67</td>\n",
              "      <td>1.52</td>\n",
              "      <td>240.0</td>\n",
              "    </tr>\n",
              "    <tr>\n",
              "      <th>420547</th>\n",
              "      <td>31.12.2016 23:30:00</td>\n",
              "      <td>999.93</td>\n",
              "      <td>-3.35</td>\n",
              "      <td>269.81</td>\n",
              "      <td>-8.06</td>\n",
              "      <td>69.71</td>\n",
              "      <td>4.77</td>\n",
              "      <td>3.32</td>\n",
              "      <td>1.44</td>\n",
              "      <td>2.07</td>\n",
              "      <td>3.32</td>\n",
              "      <td>1289.44</td>\n",
              "      <td>1.14</td>\n",
              "      <td>1.92</td>\n",
              "      <td>234.3</td>\n",
              "    </tr>\n",
              "    <tr>\n",
              "      <th>420548</th>\n",
              "      <td>31.12.2016 23:40:00</td>\n",
              "      <td>999.82</td>\n",
              "      <td>-3.16</td>\n",
              "      <td>270.01</td>\n",
              "      <td>-8.21</td>\n",
              "      <td>67.91</td>\n",
              "      <td>4.84</td>\n",
              "      <td>3.28</td>\n",
              "      <td>1.55</td>\n",
              "      <td>2.05</td>\n",
              "      <td>3.28</td>\n",
              "      <td>1288.39</td>\n",
              "      <td>1.08</td>\n",
              "      <td>2.00</td>\n",
              "      <td>215.2</td>\n",
              "    </tr>\n",
              "    <tr>\n",
              "      <th>420549</th>\n",
              "      <td>31.12.2016 23:50:00</td>\n",
              "      <td>999.81</td>\n",
              "      <td>-4.23</td>\n",
              "      <td>268.94</td>\n",
              "      <td>-8.53</td>\n",
              "      <td>71.80</td>\n",
              "      <td>4.46</td>\n",
              "      <td>3.20</td>\n",
              "      <td>1.26</td>\n",
              "      <td>1.99</td>\n",
              "      <td>3.20</td>\n",
              "      <td>1293.56</td>\n",
              "      <td>1.49</td>\n",
              "      <td>2.16</td>\n",
              "      <td>225.8</td>\n",
              "    </tr>\n",
              "    <tr>\n",
              "      <th>420550</th>\n",
              "      <td>01.01.2017 00:00:00</td>\n",
              "      <td>999.82</td>\n",
              "      <td>-4.82</td>\n",
              "      <td>268.36</td>\n",
              "      <td>-8.42</td>\n",
              "      <td>75.70</td>\n",
              "      <td>4.27</td>\n",
              "      <td>3.23</td>\n",
              "      <td>1.04</td>\n",
              "      <td>2.01</td>\n",
              "      <td>3.23</td>\n",
              "      <td>1296.38</td>\n",
              "      <td>1.23</td>\n",
              "      <td>1.96</td>\n",
              "      <td>184.9</td>\n",
              "    </tr>\n",
              "  </tbody>\n",
              "</table>\n",
              "<p>420551 rows × 15 columns</p>\n",
              "</div>"
            ],
            "text/plain": [
              "                  Date Time  p (mbar)  ...  max. wv (m/s)  wd (deg)\n",
              "0       01.01.2009 00:10:00    996.52  ...           1.75     152.3\n",
              "1       01.01.2009 00:20:00    996.57  ...           1.50     136.1\n",
              "2       01.01.2009 00:30:00    996.53  ...           0.63     171.6\n",
              "3       01.01.2009 00:40:00    996.51  ...           0.50     198.0\n",
              "4       01.01.2009 00:50:00    996.51  ...           0.63     214.3\n",
              "...                     ...       ...  ...            ...       ...\n",
              "420546  31.12.2016 23:20:00   1000.07  ...           1.52     240.0\n",
              "420547  31.12.2016 23:30:00    999.93  ...           1.92     234.3\n",
              "420548  31.12.2016 23:40:00    999.82  ...           2.00     215.2\n",
              "420549  31.12.2016 23:50:00    999.81  ...           2.16     225.8\n",
              "420550  01.01.2017 00:00:00    999.82  ...           1.96     184.9\n",
              "\n",
              "[420551 rows x 15 columns]"
            ]
          },
          "metadata": {
            "tags": []
          },
          "execution_count": 5
        }
      ]
    },
    {
      "cell_type": "code",
      "metadata": {
        "id": "XUTkTmfkRlXw",
        "colab": {
          "base_uri": "https://localhost:8080/",
          "height": 402
        },
        "outputId": "387e5ee6-4646-449f-a653-fbc6713b7caf"
      },
      "source": [
        "selected_feat=['T (degC)','rh (%)']\n",
        "selected_df=df[selected_feat]    #df.loc[:,selected_feat].values\n",
        "\n",
        "selected_df"
      ],
      "execution_count": 6,
      "outputs": [
        {
          "output_type": "execute_result",
          "data": {
            "text/html": [
              "<div>\n",
              "<style scoped>\n",
              "    .dataframe tbody tr th:only-of-type {\n",
              "        vertical-align: middle;\n",
              "    }\n",
              "\n",
              "    .dataframe tbody tr th {\n",
              "        vertical-align: top;\n",
              "    }\n",
              "\n",
              "    .dataframe thead th {\n",
              "        text-align: right;\n",
              "    }\n",
              "</style>\n",
              "<table border=\"1\" class=\"dataframe\">\n",
              "  <thead>\n",
              "    <tr style=\"text-align: right;\">\n",
              "      <th></th>\n",
              "      <th>T (degC)</th>\n",
              "      <th>rh (%)</th>\n",
              "    </tr>\n",
              "  </thead>\n",
              "  <tbody>\n",
              "    <tr>\n",
              "      <th>0</th>\n",
              "      <td>-8.02</td>\n",
              "      <td>93.30</td>\n",
              "    </tr>\n",
              "    <tr>\n",
              "      <th>1</th>\n",
              "      <td>-8.41</td>\n",
              "      <td>93.40</td>\n",
              "    </tr>\n",
              "    <tr>\n",
              "      <th>2</th>\n",
              "      <td>-8.51</td>\n",
              "      <td>93.90</td>\n",
              "    </tr>\n",
              "    <tr>\n",
              "      <th>3</th>\n",
              "      <td>-8.31</td>\n",
              "      <td>94.20</td>\n",
              "    </tr>\n",
              "    <tr>\n",
              "      <th>4</th>\n",
              "      <td>-8.27</td>\n",
              "      <td>94.10</td>\n",
              "    </tr>\n",
              "    <tr>\n",
              "      <th>...</th>\n",
              "      <td>...</td>\n",
              "      <td>...</td>\n",
              "    </tr>\n",
              "    <tr>\n",
              "      <th>420546</th>\n",
              "      <td>-4.05</td>\n",
              "      <td>73.10</td>\n",
              "    </tr>\n",
              "    <tr>\n",
              "      <th>420547</th>\n",
              "      <td>-3.35</td>\n",
              "      <td>69.71</td>\n",
              "    </tr>\n",
              "    <tr>\n",
              "      <th>420548</th>\n",
              "      <td>-3.16</td>\n",
              "      <td>67.91</td>\n",
              "    </tr>\n",
              "    <tr>\n",
              "      <th>420549</th>\n",
              "      <td>-4.23</td>\n",
              "      <td>71.80</td>\n",
              "    </tr>\n",
              "    <tr>\n",
              "      <th>420550</th>\n",
              "      <td>-4.82</td>\n",
              "      <td>75.70</td>\n",
              "    </tr>\n",
              "  </tbody>\n",
              "</table>\n",
              "<p>420551 rows × 2 columns</p>\n",
              "</div>"
            ],
            "text/plain": [
              "        T (degC)  rh (%)\n",
              "0          -8.02   93.30\n",
              "1          -8.41   93.40\n",
              "2          -8.51   93.90\n",
              "3          -8.31   94.20\n",
              "4          -8.27   94.10\n",
              "...          ...     ...\n",
              "420546     -4.05   73.10\n",
              "420547     -3.35   69.71\n",
              "420548     -3.16   67.91\n",
              "420549     -4.23   71.80\n",
              "420550     -4.82   75.70\n",
              "\n",
              "[420551 rows x 2 columns]"
            ]
          },
          "metadata": {
            "tags": []
          },
          "execution_count": 6
        }
      ]
    },
    {
      "cell_type": "code",
      "metadata": {
        "colab": {
          "base_uri": "https://localhost:8080/"
        },
        "id": "Nr_5hYCUShRr",
        "outputId": "8aa935ef-8999-4923-ce73-0aa82c008fa5"
      },
      "source": [
        "#Data conversion to a 32-bit float numpy array\n",
        "\n",
        "selected_array=selected_df.to_numpy(dtype=np.float32)   #.astype(np.float32)\n",
        "selected_array"
      ],
      "execution_count": 7,
      "outputs": [
        {
          "output_type": "execute_result",
          "data": {
            "text/plain": [
              "array([[-8.02, 93.3 ],\n",
              "       [-8.41, 93.4 ],\n",
              "       [-8.51, 93.9 ],\n",
              "       ...,\n",
              "       [-3.16, 67.91],\n",
              "       [-4.23, 71.8 ],\n",
              "       [-4.82, 75.7 ]], dtype=float32)"
            ]
          },
          "metadata": {
            "tags": []
          },
          "execution_count": 7
        }
      ]
    },
    {
      "cell_type": "code",
      "metadata": {
        "id": "kpST-ZOSj1Nw"
      },
      "source": [
        "#I define training (70%),validation (10%) and test data set (20%)\n",
        "\n",
        "n=len(selected_array)\n",
        "train_data=selected_array[0:int(n*0.7)]\n",
        "val_data=selected_array[int(n*0.7):int(n*0.8)]\n",
        "test_data = selected_array[int(n*0.8):]\n"
      ],
      "execution_count": 8,
      "outputs": []
    },
    {
      "cell_type": "code",
      "metadata": {
        "id": "TFmfO9jglbgE"
      },
      "source": [
        "#I define mean and standard deviation (for normalization)\n",
        "mean = train_data.mean(axis=0)\n",
        "std = train_data.std(axis=0)\n",
        "\n",
        "#I define the size of the window and Label Options (which is a number)\n",
        "#LABEL_OPTIONS= is a number used to make my model understand if I'm predicting only temperature, only humidity or humidity and temperature together.\n",
        "#              is 0 for temperature, 1 for humidity, 2 for both\n",
        "\n",
        "input_width = 6\n",
        "LABEL_OPTIONS =label_to_predict\n",
        "#LABEL_OPTIONS = args.labels\n"
      ],
      "execution_count": 9,
      "outputs": []
    },
    {
      "cell_type": "markdown",
      "metadata": {
        "id": "4GHPN7iXS00v"
      },
      "source": [
        "##Window Generation\n"
      ]
    },
    {
      "cell_type": "code",
      "metadata": {
        "id": "vteVFROJWOvA"
      },
      "source": [
        "#features: temperature, humidity (x6 values)\n",
        "#one temperature value (the one corresponding to the next time interval)\n",
        "\n",
        "\n",
        "class WindowGenerator:\n",
        "    def __init__(self, input_width, label_options, mean, std):\n",
        "        self.input_width = input_width\n",
        "        self.label_options = label_options\n",
        "        self.mean = tf.reshape(tf.convert_to_tensor(mean), [1, 1, 2])\n",
        "        self.std = tf.reshape(tf.convert_to_tensor(std), [1, 1, 2])\n",
        "\n",
        "    def split_window(self, features):\n",
        "        input_indeces = np.arange(self.input_width)\n",
        "        inputs = features[:, :-1, :]\n",
        "\n",
        "        if self.label_options < 2:\n",
        "            labels = features[:, -1, self.label_options]\n",
        "            labels = tf.expand_dims(labels, -1)\n",
        "            num_labels = 1\n",
        "        else:\n",
        "            labels = features[:, -1, :]\n",
        "            num_labels = 2\n",
        "\n",
        "        inputs.set_shape([None, self.input_width, 2])\n",
        "        labels.set_shape([None, num_labels])\n",
        "\n",
        "        return inputs, labels\n",
        "\n",
        "    def normalize(self, features):\n",
        "        features = (features - self.mean) / (self.std + 1.e-6)\n",
        "\n",
        "        return features\n",
        "\n",
        "    def preprocess(self, features):\n",
        "        inputs, labels = self.split_window(features)\n",
        "        inputs = self.normalize(inputs)\n",
        "\n",
        "        return inputs, labels\n",
        "\n",
        "    def make_dataset(self, data, train):\n",
        "        ds = tf.keras.preprocessing.timeseries_dataset_from_array(\n",
        "                data=data,\n",
        "                targets=None,\n",
        "                sequence_length=input_width+1,\n",
        "                sequence_stride=1,\n",
        "                batch_size=32)\n",
        "        ds = ds.map(self.preprocess)\n",
        "        ds = ds.cache()\n",
        "        if train is True:\n",
        "            ds = ds.shuffle(100, reshuffle_each_iteration=True)\n",
        "\n",
        "        return ds"
      ],
      "execution_count": 10,
      "outputs": []
    },
    {
      "cell_type": "code",
      "metadata": {
        "id": "iqqVtJv4rfDk"
      },
      "source": [
        "generator = WindowGenerator(input_width, LABEL_OPTIONS, mean, std)\n",
        "train_ds = generator.make_dataset(train_data, True)\n",
        "val_ds = generator.make_dataset(val_data, False)\n",
        "test_ds = generator.make_dataset(test_data, False)\n",
        "\n",
        "\n"
      ],
      "execution_count": 11,
      "outputs": []
    },
    {
      "cell_type": "markdown",
      "metadata": {
        "id": "vPuVpKDQTCF4"
      },
      "source": [
        "##Dataset check"
      ]
    },
    {
      "cell_type": "code",
      "metadata": {
        "colab": {
          "base_uri": "https://localhost:8080/"
        },
        "id": "LTTnYu0V20bt",
        "outputId": "7939041d-a23f-417c-dac6-de603f51ab13"
      },
      "source": [
        "# split datasets into input (X) and output (y) variables\n",
        "\n",
        "#train\n",
        "for x_train,y_train in train_ds.take(1):\n",
        "  print(x_train.shape)\n",
        "  print(y_train.shape)\n",
        "\n",
        "\n",
        "#validation\n",
        "for x_val,y_val in val_ds.take(1):\n",
        "  print(x_val.shape)\n",
        "  print(y_val.shape)\n",
        "\n",
        "\n",
        "#test\n",
        "for x_test,y_test in test_ds.take(1):\n",
        "  print(x_test.shape)\n",
        "  print(y_test.shape)\n"
      ],
      "execution_count": 12,
      "outputs": [
        {
          "output_type": "stream",
          "text": [
            "(32, 6, 2)\n",
            "(32, 2)\n",
            "(32, 6, 2)\n",
            "(32, 2)\n",
            "(32, 6, 2)\n",
            "(32, 2)\n"
          ],
          "name": "stdout"
        }
      ]
    },
    {
      "cell_type": "markdown",
      "metadata": {
        "id": "UICNDxMVtZfc"
      },
      "source": [
        "##Class to measure the MAE separately on the two outputs"
      ]
    },
    {
      "cell_type": "code",
      "metadata": {
        "id": "SQLbxTg0tsxN"
      },
      "source": [
        "class MultiOutputMAE(tf.keras.metrics.Metric):\n",
        "    \n",
        "    def __init__(self, name= 'mean_absolute_error', **kwargs):\n",
        "      super().__init__(name=name, **kwargs)\n",
        "      self.total= self.add_weight('total', initializer='zeros', shape=(2,))\n",
        "      self.count = self.add_weight('count', initializer= 'zeros')\n",
        "    \n",
        "    def update_state(self, y_true, y_pred, sample_weight= None):\n",
        "      error= tf.abs(y_pred - y_true)\n",
        "      error= tf.reduce_mean(error, axis=0)\n",
        "      self.total.assign_add(error)\n",
        "      self.count.assign_add(1.)\n",
        "      return\n",
        "    \n",
        "    def reset_states (self):\n",
        "      self.count.assign(tf.zeros_like(self.count))\n",
        "      self.total.assign(tf.zeros_like(self.total))\n",
        "      return\n",
        "\n",
        "    def result(self):\n",
        "      result = tf.math.divide_no_nan(self.total, self.count)\n",
        "      return result\n"
      ],
      "execution_count": 13,
      "outputs": []
    },
    {
      "cell_type": "markdown",
      "metadata": {
        "id": "0TVo1c1KTGs9"
      },
      "source": [
        "##MPL Model"
      ]
    },
    {
      "cell_type": "code",
      "metadata": {
        "id": "JLyLije4vQbS"
      },
      "source": [
        "#MLP Model definition\n",
        "mlp_model = keras.Sequential([\n",
        "    keras.layers.Flatten(),\n",
        "    keras.layers.Dense(units=128, activation='relu'),\n",
        "    keras.layers.Dense(units=128, activation='relu'),\n",
        "    keras.layers.Dense(units=2) #metti 2 se vuoi fare doppia predizione 1 se ne vuoi fare solo una \n",
        "])"
      ],
      "execution_count": 14,
      "outputs": []
    },
    {
      "cell_type": "code",
      "metadata": {
        "colab": {
          "base_uri": "https://localhost:8080/"
        },
        "id": "0eCHf8kh83q9",
        "outputId": "ad33c2c0-f14c-478f-dd58-9535d4eb56f6"
      },
      "source": [
        "#Training, evaluation and testing with mlp model\n",
        "\n",
        "\n",
        "mlp_model.compile(loss='mse', optimizer='adam', metrics=['mse'])\n",
        "mlp_model.fit(train_ds, epochs=20)\n"
      ],
      "execution_count": 15,
      "outputs": [
        {
          "output_type": "stream",
          "text": [
            "Epoch 1/20\n",
            "9200/9200 [==============================] - 30s 3ms/step - loss: 43.2861 - mse: 43.2861\n",
            "Epoch 2/20\n",
            "9200/9200 [==============================] - 10s 1ms/step - loss: 1.2340 - mse: 1.2340\n",
            "Epoch 3/20\n",
            "9200/9200 [==============================] - 10s 1ms/step - loss: 0.9593 - mse: 0.9593\n",
            "Epoch 4/20\n",
            "9200/9200 [==============================] - 10s 1ms/step - loss: 0.9055 - mse: 0.9055\n",
            "Epoch 5/20\n",
            "9200/9200 [==============================] - 10s 1ms/step - loss: 0.8847 - mse: 0.8847\n",
            "Epoch 6/20\n",
            "9200/9200 [==============================] - 10s 1ms/step - loss: 0.8390 - mse: 0.8390\n",
            "Epoch 7/20\n",
            "9200/9200 [==============================] - 11s 1ms/step - loss: 0.9498 - mse: 0.9498\n",
            "Epoch 8/20\n",
            "9200/9200 [==============================] - 10s 1ms/step - loss: 0.7886 - mse: 0.7886\n",
            "Epoch 9/20\n",
            "9200/9200 [==============================] - 10s 1ms/step - loss: 0.7668 - mse: 0.7668\n",
            "Epoch 10/20\n",
            "9200/9200 [==============================] - 10s 1ms/step - loss: 0.8006 - mse: 0.8006\n",
            "Epoch 11/20\n",
            "9200/9200 [==============================] - 10s 1ms/step - loss: 0.7181 - mse: 0.7181\n",
            "Epoch 12/20\n",
            "9200/9200 [==============================] - 11s 1ms/step - loss: 0.7167 - mse: 0.7167\n",
            "Epoch 13/20\n",
            "9200/9200 [==============================] - 13s 1ms/step - loss: 0.7341 - mse: 0.7341\n",
            "Epoch 14/20\n",
            "9200/9200 [==============================] - 11s 1ms/step - loss: 0.7299 - mse: 0.7299\n",
            "Epoch 15/20\n",
            "9200/9200 [==============================] - 10s 1ms/step - loss: 0.6975 - mse: 0.6975\n",
            "Epoch 16/20\n",
            "9200/9200 [==============================] - 10s 1ms/step - loss: 0.6799 - mse: 0.6799\n",
            "Epoch 17/20\n",
            "9200/9200 [==============================] - 10s 1ms/step - loss: 0.6820 - mse: 0.6820\n",
            "Epoch 18/20\n",
            "9200/9200 [==============================] - 10s 1ms/step - loss: 0.6620 - mse: 0.6620\n",
            "Epoch 19/20\n",
            "9200/9200 [==============================] - 10s 1ms/step - loss: 0.6523 - mse: 0.6523\n",
            "Epoch 20/20\n",
            "9200/9200 [==============================] - 10s 1ms/step - loss: 0.6881 - mse: 0.6881\n"
          ],
          "name": "stdout"
        },
        {
          "output_type": "execute_result",
          "data": {
            "text/plain": [
              "<tensorflow.python.keras.callbacks.History at 0x7fa1b84c15f8>"
            ]
          },
          "metadata": {
            "tags": []
          },
          "execution_count": 15
        }
      ]
    },
    {
      "cell_type": "code",
      "metadata": {
        "colab": {
          "base_uri": "https://localhost:8080/"
        },
        "id": "EIE9p4f0_ksc",
        "outputId": "12437c7b-ce84-4b53-d84a-2c34a83c6f9c"
      },
      "source": [
        "#model evaluation on validation set\n",
        "\n",
        "mlp_model.compile(loss='mae', optimizer='adam')\n",
        "val_loss= mlp_model.evaluate(val_ds) "
      ],
      "execution_count": 16,
      "outputs": [
        {
          "output_type": "stream",
          "text": [
            "1315/1315 [==============================] - 4s 3ms/step - loss: 0.9785\n"
          ],
          "name": "stdout"
        }
      ]
    },
    {
      "cell_type": "code",
      "metadata": {
        "colab": {
          "base_uri": "https://localhost:8080/"
        },
        "id": "Gw-5aR4EKEdM",
        "outputId": "ccf5a2f0-b624-4c99-ab37-aa486c5b7c52"
      },
      "source": [
        "#test the model\n",
        "\n",
        "mlp_model.compile(loss='mse', optimizer='adam', metrics=[MultiOutputMAE()])\n",
        "#mlp_model.compile(loss='mae', optimizer='adam')\n",
        "test_loss= mlp_model.evaluate(test_ds) \n",
        "\n"
      ],
      "execution_count": 17,
      "outputs": [
        {
          "output_type": "stream",
          "text": [
            "2629/2629 [==============================] - 8s 3ms/step - loss: 1.7281 - mean_absolute_error: 0.9371\n"
          ],
          "name": "stdout"
        }
      ]
    },
    {
      "cell_type": "code",
      "metadata": {
        "colab": {
          "base_uri": "https://localhost:8080/"
        },
        "id": "Iray07evP3w3",
        "outputId": "8e253770-f452-4c34-dd57-4c6c0c607aec"
      },
      "source": [
        "#check \n",
        "predictions = mlp_model.predict(x_test)\n",
        "# summarize the first 5 cases\n",
        "for i in range(5):\n",
        "\tprint('%s => %s (expected %s)' % (x_test[i].numpy().tolist(), predictions[i], y_test[i]))"
      ],
      "execution_count": 18,
      "outputs": [
        {
          "output_type": "stream",
          "text": [
            "[[0.9651238322257996, -0.9859264492988586], [0.9535689353942871, -0.9665994048118591], [0.9293032288551331, -0.9146581292152405], [0.9027267098426819, -0.8609045147895813], [0.8761501312255859, -0.7860122323036194], [0.8553510308265686, -0.7286349534988403]] => [16.889565 63.959797] (expected tf.Tensor([16.27 65.14], shape=(2,), dtype=float32))\n",
            "[[0.9535689353942871, -0.9665994048118591], [0.9293032288551331, -0.9146581292152405], [0.9027267098426819, -0.8609045147895813], [0.8761501312255859, -0.7860122323036194], [0.8553510308265686, -0.7286349534988403], [0.8276189565658569, -0.6501188278198242]] => [16.57534 65.48229] (expected tf.Tensor([16.09 66.12], shape=(2,), dtype=float32))\n",
            "[[0.9293032288551331, -0.9146581292152405], [0.9027267098426819, -0.8609045147895813], [0.8761501312255859, -0.7860122323036194], [0.8553510308265686, -0.7286349534988403], [0.8276189565658569, -0.6501188278198242], [0.8068197965621948, -0.5909294486045837]] => [16.395395 66.25237 ] (expected tf.Tensor([15.98 66.88], shape=(2,), dtype=float32))\n",
            "[[0.9027267098426819, -0.8609045147895813], [0.8761501312255859, -0.7860122323036194], [0.8553510308265686, -0.7286349534988403], [0.8276189565658569, -0.6501188278198242], [0.8068197965621948, -0.5909294486045837], [0.7941091656684875, -0.545028030872345]] => [16.293129 66.91506 ] (expected tf.Tensor([15.82 66.97], shape=(2,), dtype=float32))\n",
            "[[0.8761501312255859, -0.7860122323036194], [0.8553510308265686, -0.7286349534988403], [0.8276189565658569, -0.6501188278198242], [0.8068197965621948, -0.5909294486045837], [0.7941091656684875, -0.545028030872345], [0.7756211161613464, -0.5395920276641846]] => [16.167625 66.8645  ] (expected tf.Tensor([15.87 66.4 ], shape=(2,), dtype=float32))\n"
          ],
          "name": "stdout"
        }
      ]
    },
    {
      "cell_type": "code",
      "metadata": {
        "id": "vwmzZrebNmj5",
        "colab": {
          "base_uri": "https://localhost:8080/"
        },
        "outputId": "7787877d-a6fe-41ef-c9ff-a9e674f3a15c"
      },
      "source": [
        "#number of parameters VS mae\n",
        "\n",
        "mlp_model.summary()"
      ],
      "execution_count": 19,
      "outputs": [
        {
          "output_type": "stream",
          "text": [
            "Model: \"sequential\"\n",
            "_________________________________________________________________\n",
            "Layer (type)                 Output Shape              Param #   \n",
            "=================================================================\n",
            "flatten (Flatten)            (None, 12)                0         \n",
            "_________________________________________________________________\n",
            "dense (Dense)                (None, 128)               1664      \n",
            "_________________________________________________________________\n",
            "dense_1 (Dense)              (None, 128)               16512     \n",
            "_________________________________________________________________\n",
            "dense_2 (Dense)              (None, 2)                 258       \n",
            "=================================================================\n",
            "Total params: 18,434\n",
            "Trainable params: 18,434\n",
            "Non-trainable params: 0\n",
            "_________________________________________________________________\n"
          ],
          "name": "stdout"
        }
      ]
    },
    {
      "cell_type": "markdown",
      "metadata": {
        "id": "hh4ThJ5IciM1"
      },
      "source": [
        "#CNN 1D"
      ]
    },
    {
      "cell_type": "code",
      "metadata": {
        "id": "GMsWLPIS0tyN"
      },
      "source": [
        "#CNN_1D Model definition\n",
        "\n",
        "cnn_1d_model = keras.Sequential([\n",
        "    keras.layers.Conv1D(filters=64,kernel_size=3, activation='relu'),\n",
        "    keras.layers.Flatten(),\n",
        "    keras.layers.Dense(units=64, activation='relu'),\n",
        "    keras.layers.Dense(units=2)\n",
        "])"
      ],
      "execution_count": 20,
      "outputs": []
    },
    {
      "cell_type": "code",
      "metadata": {
        "id": "1o0nawfugCAg",
        "colab": {
          "base_uri": "https://localhost:8080/"
        },
        "outputId": "29fc09dc-14df-4f76-cfea-62326b4fd73b"
      },
      "source": [
        "#Training, evaluation and testing with mlp model\n",
        "\n",
        "cnn_1d_model.compile(loss='mse', optimizer='adam', metrics=['mse'])\n",
        "cnn_1d_model.fit(train_ds, epochs=20)"
      ],
      "execution_count": 21,
      "outputs": [
        {
          "output_type": "stream",
          "text": [
            "Epoch 1/20\n",
            "9200/9200 [==============================] - 11s 1ms/step - loss: 40.6813 - mse: 40.6813\n",
            "Epoch 2/20\n",
            "9200/9200 [==============================] - 11s 1ms/step - loss: 0.9913 - mse: 0.9913\n",
            "Epoch 3/20\n",
            "9200/9200 [==============================] - 11s 1ms/step - loss: 0.8268 - mse: 0.8268\n",
            "Epoch 4/20\n",
            "9200/9200 [==============================] - 11s 1ms/step - loss: 0.8122 - mse: 0.8122\n",
            "Epoch 5/20\n",
            "9200/9200 [==============================] - 11s 1ms/step - loss: 0.7239 - mse: 0.7239\n",
            "Epoch 6/20\n",
            "9200/9200 [==============================] - 11s 1ms/step - loss: 0.7454 - mse: 0.7454\n",
            "Epoch 7/20\n",
            "9200/9200 [==============================] - 11s 1ms/step - loss: 0.7177 - mse: 0.7177\n",
            "Epoch 8/20\n",
            "9200/9200 [==============================] - 11s 1ms/step - loss: 0.7279 - mse: 0.7279\n",
            "Epoch 9/20\n",
            "9200/9200 [==============================] - 11s 1ms/step - loss: 0.6984 - mse: 0.6984\n",
            "Epoch 10/20\n",
            "9200/9200 [==============================] - 11s 1ms/step - loss: 0.6615 - mse: 0.6615\n",
            "Epoch 11/20\n",
            "9200/9200 [==============================] - 11s 1ms/step - loss: 0.6770 - mse: 0.6770\n",
            "Epoch 12/20\n",
            "9200/9200 [==============================] - 11s 1ms/step - loss: 0.6823 - mse: 0.6823\n",
            "Epoch 13/20\n",
            "9200/9200 [==============================] - 11s 1ms/step - loss: 0.6479 - mse: 0.6479\n",
            "Epoch 14/20\n",
            "9200/9200 [==============================] - 11s 1ms/step - loss: 0.6533 - mse: 0.6533\n",
            "Epoch 15/20\n",
            "9200/9200 [==============================] - 11s 1ms/step - loss: 0.6423 - mse: 0.6423\n",
            "Epoch 16/20\n",
            "9200/9200 [==============================] - 11s 1ms/step - loss: 0.6300 - mse: 0.6300\n",
            "Epoch 17/20\n",
            "9200/9200 [==============================] - 11s 1ms/step - loss: 0.6297 - mse: 0.6297\n",
            "Epoch 18/20\n",
            "9200/9200 [==============================] - 11s 1ms/step - loss: 0.6304 - mse: 0.6304\n",
            "Epoch 19/20\n",
            "9200/9200 [==============================] - 11s 1ms/step - loss: 0.6306 - mse: 0.6306\n",
            "Epoch 20/20\n",
            "9200/9200 [==============================] - 12s 1ms/step - loss: 0.6188 - mse: 0.6188\n"
          ],
          "name": "stdout"
        },
        {
          "output_type": "execute_result",
          "data": {
            "text/plain": [
              "<tensorflow.python.keras.callbacks.History at 0x7fa1b5553ba8>"
            ]
          },
          "metadata": {
            "tags": []
          },
          "execution_count": 21
        }
      ]
    },
    {
      "cell_type": "code",
      "metadata": {
        "id": "WuEGq6spgB11",
        "colab": {
          "base_uri": "https://localhost:8080/"
        },
        "outputId": "a7df9b8d-ef69-4da4-c524-c27ee0deb498"
      },
      "source": [
        "#model evaluation on validation set\n",
        "\n",
        "cnn_1d_model.compile(loss='mae', optimizer='adam')\n",
        "val_loss= cnn_1d_model.evaluate(val_ds) "
      ],
      "execution_count": 22,
      "outputs": [
        {
          "output_type": "stream",
          "text": [
            "1315/1315 [==============================] - 1s 1ms/step - loss: 0.9324\n"
          ],
          "name": "stdout"
        }
      ]
    },
    {
      "cell_type": "code",
      "metadata": {
        "id": "vPmEEOdwgS30",
        "colab": {
          "base_uri": "https://localhost:8080/"
        },
        "outputId": "43e4a4c7-df61-44b4-a574-5a6c34d20655"
      },
      "source": [
        "#test the model\n",
        "#model evaluation on validation set\n",
        "\n",
        "cnn_1d_model.compile(loss='mse', optimizer='adam', metrics=[MultiOutputMAE()])\n",
        "#cnn_1d_model.compile(loss='mae', optimizer='adam')\n",
        "test_loss= cnn_1d_model.evaluate(test_ds) "
      ],
      "execution_count": 23,
      "outputs": [
        {
          "output_type": "stream",
          "text": [
            "2629/2629 [==============================] - 3s 1ms/step - loss: 2.4455 - mean_absolute_error: 1.0920\n"
          ],
          "name": "stdout"
        }
      ]
    },
    {
      "cell_type": "code",
      "metadata": {
        "id": "Uzygry5mg_q8",
        "colab": {
          "base_uri": "https://localhost:8080/"
        },
        "outputId": "4b711131-fcc6-4484-850b-c7b13788f18e"
      },
      "source": [
        "#check \n",
        "predictions = cnn_1d_model.predict(x_test)\n",
        "# summarize the first 5 cases\n",
        "for i in range(5):\n",
        "\tprint('%s => %s (expected %s)' % (x_test[i].numpy().tolist(), predictions[i], y_test[i]))"
      ],
      "execution_count": 24,
      "outputs": [
        {
          "output_type": "stream",
          "text": [
            "[[0.9651238322257996, -0.9859264492988586], [0.9535689353942871, -0.9665994048118591], [0.9293032288551331, -0.9146581292152405], [0.9027267098426819, -0.8609045147895813], [0.8761501312255859, -0.7860122323036194], [0.8553510308265686, -0.7286349534988403]] => [15.3723135 62.327816 ] (expected tf.Tensor([16.27 65.14], shape=(2,), dtype=float32))\n",
            "[[0.9535689353942871, -0.9665994048118591], [0.9293032288551331, -0.9146581292152405], [0.9027267098426819, -0.8609045147895813], [0.8761501312255859, -0.7860122323036194], [0.8553510308265686, -0.7286349534988403], [0.8276189565658569, -0.6501188278198242]] => [15.104699 63.98885 ] (expected tf.Tensor([16.09 66.12], shape=(2,), dtype=float32))\n",
            "[[0.9293032288551331, -0.9146581292152405], [0.9027267098426819, -0.8609045147895813], [0.8761501312255859, -0.7860122323036194], [0.8553510308265686, -0.7286349534988403], [0.8276189565658569, -0.6501188278198242], [0.8068197965621948, -0.5909294486045837]] => [14.999152 64.81309 ] (expected tf.Tensor([15.98 66.88], shape=(2,), dtype=float32))\n",
            "[[0.9027267098426819, -0.8609045147895813], [0.8761501312255859, -0.7860122323036194], [0.8553510308265686, -0.7286349534988403], [0.8276189565658569, -0.6501188278198242], [0.8068197965621948, -0.5909294486045837], [0.7941091656684875, -0.545028030872345]] => [14.935346 65.58374 ] (expected tf.Tensor([15.82 66.97], shape=(2,), dtype=float32))\n",
            "[[0.8761501312255859, -0.7860122323036194], [0.8553510308265686, -0.7286349534988403], [0.8276189565658569, -0.6501188278198242], [0.8068197965621948, -0.5909294486045837], [0.7941091656684875, -0.545028030872345], [0.7756211161613464, -0.5395920276641846]] => [14.832926 65.611725] (expected tf.Tensor([15.87 66.4 ], shape=(2,), dtype=float32))\n"
          ],
          "name": "stdout"
        }
      ]
    },
    {
      "cell_type": "code",
      "metadata": {
        "id": "6XOpqTI4scZP",
        "outputId": "810eaee3-a3b2-4955-d5c0-a55887d8fe2e",
        "colab": {
          "base_uri": "https://localhost:8080/"
        }
      },
      "source": [
        "cnn_1d_model.summary()"
      ],
      "execution_count": 26,
      "outputs": [
        {
          "output_type": "stream",
          "text": [
            "Model: \"sequential_1\"\n",
            "_________________________________________________________________\n",
            "Layer (type)                 Output Shape              Param #   \n",
            "=================================================================\n",
            "conv1d (Conv1D)              (None, 4, 64)             448       \n",
            "_________________________________________________________________\n",
            "flatten_1 (Flatten)          (None, 256)               0         \n",
            "_________________________________________________________________\n",
            "dense_3 (Dense)              (None, 64)                16448     \n",
            "_________________________________________________________________\n",
            "dense_4 (Dense)              (None, 2)                 130       \n",
            "=================================================================\n",
            "Total params: 17,026\n",
            "Trainable params: 17,026\n",
            "Non-trainable params: 0\n",
            "_________________________________________________________________\n"
          ],
          "name": "stdout"
        }
      ]
    },
    {
      "cell_type": "markdown",
      "metadata": {
        "id": "OKUnLyEYiLPh"
      },
      "source": [
        "#LSTM"
      ]
    },
    {
      "cell_type": "code",
      "metadata": {
        "id": "ctVc9Z6o2e6O"
      },
      "source": [
        "#LSTM Model definition\n",
        "\n",
        "lstm_model = keras.Sequential([\n",
        "    keras.layers.LSTM(units=64),\n",
        "    keras.layers.Flatten(),\n",
        "    keras.layers.Dense(units=2)\n",
        "])"
      ],
      "execution_count": 28,
      "outputs": []
    },
    {
      "cell_type": "code",
      "metadata": {
        "id": "7ShNPdmMiGF3",
        "colab": {
          "base_uri": "https://localhost:8080/"
        },
        "outputId": "b59ea16d-d484-477d-c735-47984b64b2ab"
      },
      "source": [
        "#Training, evaluation and testing with mlp model\n",
        "\n",
        "lstm_model.compile(loss='mse', optimizer='adam', metrics=['mse'])\n",
        "lstm_model.fit(train_ds, epochs=20)"
      ],
      "execution_count": 29,
      "outputs": [
        {
          "output_type": "stream",
          "text": [
            "Epoch 1/20\n",
            "9200/9200 [==============================] - 35s 4ms/step - loss: 154.0661 - mse: 154.0661\n",
            "Epoch 2/20\n",
            "9200/9200 [==============================] - 34s 4ms/step - loss: 1.2588 - mse: 1.2588\n",
            "Epoch 3/20\n",
            "9200/9200 [==============================] - 34s 4ms/step - loss: 0.7200 - mse: 0.7200\n",
            "Epoch 4/20\n",
            "9200/9200 [==============================] - 34s 4ms/step - loss: 0.6459 - mse: 0.6459\n",
            "Epoch 5/20\n",
            "9200/9200 [==============================] - 34s 4ms/step - loss: 0.6033 - mse: 0.6033\n",
            "Epoch 6/20\n",
            "9200/9200 [==============================] - 34s 4ms/step - loss: 0.5814 - mse: 0.5814\n",
            "Epoch 7/20\n",
            "9200/9200 [==============================] - 34s 4ms/step - loss: 0.5699 - mse: 0.5699\n",
            "Epoch 8/20\n",
            "9200/9200 [==============================] - 36s 4ms/step - loss: 0.5649 - mse: 0.5649\n",
            "Epoch 9/20\n",
            "9200/9200 [==============================] - 35s 4ms/step - loss: 0.5566 - mse: 0.5566\n",
            "Epoch 10/20\n",
            "9200/9200 [==============================] - 34s 4ms/step - loss: 0.5524 - mse: 0.5524\n",
            "Epoch 11/20\n",
            "9200/9200 [==============================] - 34s 4ms/step - loss: 0.5506 - mse: 0.5506\n",
            "Epoch 12/20\n",
            "9200/9200 [==============================] - 34s 4ms/step - loss: 0.5464 - mse: 0.5464\n",
            "Epoch 13/20\n",
            "9200/9200 [==============================] - 35s 4ms/step - loss: 0.5436 - mse: 0.5436\n",
            "Epoch 14/20\n",
            "9200/9200 [==============================] - 34s 4ms/step - loss: 0.5438 - mse: 0.5438\n",
            "Epoch 15/20\n",
            "9200/9200 [==============================] - 34s 4ms/step - loss: 0.5418 - mse: 0.5418\n",
            "Epoch 16/20\n",
            "9200/9200 [==============================] - 34s 4ms/step - loss: 0.5376 - mse: 0.5376\n",
            "Epoch 17/20\n",
            "9200/9200 [==============================] - 35s 4ms/step - loss: 0.5360 - mse: 0.5360\n",
            "Epoch 18/20\n",
            "9200/9200 [==============================] - 35s 4ms/step - loss: 0.5345 - mse: 0.5345\n",
            "Epoch 19/20\n",
            "9200/9200 [==============================] - 34s 4ms/step - loss: 0.5331 - mse: 0.5331\n",
            "Epoch 20/20\n",
            "9200/9200 [==============================] - 34s 4ms/step - loss: 0.5310 - mse: 0.5310\n"
          ],
          "name": "stdout"
        },
        {
          "output_type": "execute_result",
          "data": {
            "text/plain": [
              "<tensorflow.python.keras.callbacks.History at 0x7fa1b443e208>"
            ]
          },
          "metadata": {
            "tags": []
          },
          "execution_count": 29
        }
      ]
    },
    {
      "cell_type": "code",
      "metadata": {
        "id": "rPWwiXd4iZTt",
        "colab": {
          "base_uri": "https://localhost:8080/"
        },
        "outputId": "c13728d6-3a92-4f8a-9df1-4158592d19f6"
      },
      "source": [
        "#model evaluation on validation set\n",
        "\n",
        "lstm_model.compile(loss='mae', optimizer='adam')\n",
        "val_loss= lstm_model.evaluate(val_ds) "
      ],
      "execution_count": 30,
      "outputs": [
        {
          "output_type": "stream",
          "text": [
            "1315/1315 [==============================] - 2s 1ms/step - loss: 0.3694\n"
          ],
          "name": "stdout"
        }
      ]
    },
    {
      "cell_type": "code",
      "metadata": {
        "id": "NXv3oe7qiZH8",
        "colab": {
          "base_uri": "https://localhost:8080/"
        },
        "outputId": "2986ecb9-4b8b-4c32-8703-935d0c54b9cb"
      },
      "source": [
        "#test the model\n",
        "\n",
        "lstm_model.compile(loss='mse', optimizer='adam', metrics=[MultiOutputMAE()])\n",
        "#lstm_model.compile(loss='mae', optimizer='adam')\n",
        "test_loss= lstm_model.evaluate(test_ds) "
      ],
      "execution_count": 31,
      "outputs": [
        {
          "output_type": "stream",
          "text": [
            "2629/2629 [==============================] - 4s 1ms/step - loss: 0.5470 - mean_absolute_error: 0.3967\n"
          ],
          "name": "stdout"
        }
      ]
    },
    {
      "cell_type": "code",
      "metadata": {
        "id": "vT14RaTqiY9F",
        "colab": {
          "base_uri": "https://localhost:8080/"
        },
        "outputId": "fbeb5676-5590-48d6-f7aa-2834f08ee806"
      },
      "source": [
        "#check \n",
        "predictions = lstm_model.predict(x_test)\n",
        "# summarize the first 5 cases\n",
        "for i in range(5):\n",
        "\tprint('%s => %s (expected %s)' % (x_test[i].numpy().tolist(), predictions[i], y_test[i]))"
      ],
      "execution_count": 32,
      "outputs": [
        {
          "output_type": "stream",
          "text": [
            "[[0.9651238322257996, -0.9859264492988586], [0.9535689353942871, -0.9665994048118591], [0.9293032288551331, -0.9146581292152405], [0.9027267098426819, -0.8609045147895813], [0.8761501312255859, -0.7860122323036194], [0.8553510308265686, -0.7286349534988403]] => [16.363033 64.574776] (expected tf.Tensor([16.27 65.14], shape=(2,), dtype=float32))\n",
            "[[0.9535689353942871, -0.9665994048118591], [0.9293032288551331, -0.9146581292152405], [0.9027267098426819, -0.8609045147895813], [0.8761501312255859, -0.7860122323036194], [0.8553510308265686, -0.7286349534988403], [0.8276189565658569, -0.6501188278198242]] => [16.052969 66.157135] (expected tf.Tensor([16.09 66.12], shape=(2,), dtype=float32))\n",
            "[[0.9293032288551331, -0.9146581292152405], [0.9027267098426819, -0.8609045147895813], [0.8761501312255859, -0.7860122323036194], [0.8553510308265686, -0.7286349534988403], [0.8276189565658569, -0.6501188278198242], [0.8068197965621948, -0.5909294486045837]] => [15.944467 66.85835 ] (expected tf.Tensor([15.98 66.88], shape=(2,), dtype=float32))\n",
            "[[0.9027267098426819, -0.8609045147895813], [0.8761501312255859, -0.7860122323036194], [0.8553510308265686, -0.7286349534988403], [0.8276189565658569, -0.6501188278198242], [0.8068197965621948, -0.5909294486045837], [0.7941091656684875, -0.545028030872345]] => [15.856478 67.52782 ] (expected tf.Tensor([15.82 66.97], shape=(2,), dtype=float32))\n",
            "[[0.8761501312255859, -0.7860122323036194], [0.8553510308265686, -0.7286349534988403], [0.8276189565658569, -0.6501188278198242], [0.8068197965621948, -0.5909294486045837], [0.7941091656684875, -0.545028030872345], [0.7756211161613464, -0.5395920276641846]] => [15.698668 67.49241 ] (expected tf.Tensor([15.87 66.4 ], shape=(2,), dtype=float32))\n"
          ],
          "name": "stdout"
        }
      ]
    },
    {
      "cell_type": "code",
      "metadata": {
        "id": "WHX00zSousEc",
        "outputId": "e4a8ed90-39f5-4587-95a6-f5043c94503d",
        "colab": {
          "base_uri": "https://localhost:8080/"
        }
      },
      "source": [
        "cnn_1d_model.summary()"
      ],
      "execution_count": 33,
      "outputs": [
        {
          "output_type": "stream",
          "text": [
            "Model: \"sequential_1\"\n",
            "_________________________________________________________________\n",
            "Layer (type)                 Output Shape              Param #   \n",
            "=================================================================\n",
            "conv1d (Conv1D)              (None, 4, 64)             448       \n",
            "_________________________________________________________________\n",
            "flatten_1 (Flatten)          (None, 256)               0         \n",
            "_________________________________________________________________\n",
            "dense_3 (Dense)              (None, 64)                16448     \n",
            "_________________________________________________________________\n",
            "dense_4 (Dense)              (None, 2)                 130       \n",
            "=================================================================\n",
            "Total params: 17,026\n",
            "Trainable params: 17,026\n",
            "Non-trainable params: 0\n",
            "_________________________________________________________________\n"
          ],
          "name": "stdout"
        }
      ]
    },
    {
      "cell_type": "markdown",
      "metadata": {
        "id": "7eYgO8vdrkZu"
      },
      "source": [
        "#Save models"
      ]
    },
    {
      "cell_type": "code",
      "metadata": {
        "id": "C9EYHdMsn_Tt"
      },
      "source": [
        "mlp_model.save('mpl_model.h5')\n",
        "cnn_1d_model.save('cnn_1d_model.h5')\n",
        "lstm_model.save('lstm_model.h5') "
      ],
      "execution_count": 34,
      "outputs": []
    },
    {
      "cell_type": "markdown",
      "metadata": {
        "id": "yatSVws9rikA"
      },
      "source": [
        "##Plot #Params vs MAE"
      ]
    },
    {
      "cell_type": "code",
      "metadata": {
        "id": "Eht3MWf8ZbFb",
        "colab": {
          "base_uri": "https://localhost:8080/",
          "height": 282
        },
        "outputId": "af7d486e-ff27-465f-a8e9-fcfbc3031fa4"
      },
      "source": [
        "x=[18434, 17026, 17026]\n",
        "y=[0.9371, 1.0920 , 0.3967]\n",
        "\n",
        "plt.plot(x,y,'o--')"
      ],
      "execution_count": 37,
      "outputs": [
        {
          "output_type": "execute_result",
          "data": {
            "text/plain": [
              "[<matplotlib.lines.Line2D at 0x7fa1af505160>]"
            ]
          },
          "metadata": {
            "tags": []
          },
          "execution_count": 37
        },
        {
          "output_type": "display_data",
          "data": {
            "image/png": "[encoded data removed]",
            "text/plain": [
              "<Figure size 432x288 with 1 Axes>"
            ]
          },
          "metadata": {
            "tags": [],
            "needs_background": "light"
          }
        }
      ]
    }
  ]
}
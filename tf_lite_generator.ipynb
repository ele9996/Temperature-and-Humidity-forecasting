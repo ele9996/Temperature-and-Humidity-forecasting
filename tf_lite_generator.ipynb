{
  "nbformat": 4,
  "nbformat_minor": 0,
  "metadata": {
    "colab": {
      "name": "tf_lite_generator.ipynb",
      "provenance": [],
      "toc_visible": true,
      "authorship_tag": "ABX9TyM3vN/qDln3Jxj2hT1qEj2b",
      "include_colab_link": true
    },
    "kernelspec": {
      "name": "python3",
      "display_name": "Python 3"
    }
  },
  "cells": [
    {
      "cell_type": "markdown",
      "metadata": {
        "id": "view-in-github",
        "colab_type": "text"
      },
      "source": [
        "<a href=\"https://colab.research.google.com/github/ele9996/Temperature-and-Humidity-forecasting/blob/main/tf_lite_generator.ipynb\" target=\"_parent\"><img src=\"https://colab.research.google.com/assets/colab-badge.svg\" alt=\"Open In Colab\"/></a>"
      ]
    },
    {
      "cell_type": "code",
      "metadata": {
        "id": "uQa-pq28j1nC"
      },
      "source": [
        "import tensorflow as tf\n",
        "import numpy as np\n",
        "from tensorflow import keras\n",
        "import pandas as pd\n",
        "import matplotlib.pyplot as plt\n",
        "import argparse\n",
        "import os\n",
        "from zipfile import ZipFile"
      ],
      "execution_count": 1,
      "outputs": []
    },
    {
      "cell_type": "code",
      "metadata": {
        "colab": {
          "base_uri": "https://localhost:8080/"
        },
        "id": "eRsgHwjRpmQW",
        "outputId": "b57cc336-27bf-4f9b-deab-1f7ff382e61d"
      },
      "source": [
        "if not os.path.isdir('./Forecasting'):\n",
        "  !git clone \"https://github.com/ele9996/Temperature-and-Humidity-forecasting.git\"  \n",
        "  !mv 'Temperature-and-Humidity-forecasting' 'Forecasting'\n",
        "\n",
        "ROOT_DIR = 'Forecasting/weather_forecasting_models/'\n",
        "tflite_models=ROOT_DIR + \"tflite_models/\"\n"
      ],
      "execution_count": 2,
      "outputs": [
        {
          "output_type": "stream",
          "text": [
            "Cloning into 'Temperature-and-Humidity-forecasting'...\n",
            "remote: Enumerating objects: 101, done.\u001b[K\n",
            "remote: Counting objects: 100% (101/101), done.\u001b[K\n",
            "remote: Compressing objects: 100% (94/94), done.\u001b[K\n",
            "remote: Total 101 (delta 38), reused 0 (delta 0), pack-reused 0\u001b[K\n",
            "Receiving objects: 100% (101/101), 13.29 MiB | 15.15 MiB/s, done.\n",
            "Resolving deltas: 100% (38/38), done.\n"
          ],
          "name": "stdout"
        }
      ]
    },
    {
      "cell_type": "markdown",
      "metadata": {
        "id": "hfwZWyGxl6a7"
      },
      "source": [
        "#Generate the *tflite* models\n",
        "\n",
        "The models will be taken from the saved model (contained in the github repository \"weather-forecasting models\")"
      ]
    },
    {
      "cell_type": "markdown",
      "metadata": {
        "id": "gnDiNfZ7nCzg"
      },
      "source": [
        "##MLP MODEL: tflite conversion and size measurement"
      ]
    },
    {
      "cell_type": "markdown",
      "metadata": {
        "id": "eDVgO79KudwU"
      },
      "source": [
        "###*tflite* conversion"
      ]
    },
    {
      "cell_type": "code",
      "metadata": {
        "id": "cXMm752Hl5-6"
      },
      "source": [
        "saved_model_dir= ROOT_DIR +\"mlp_model\"\n",
        "tflite_model_dir= tflite_models + \"mlp_model\"\n",
        "\n",
        "converter=tf.lite.TFLiteConverter.from_saved_model(saved_model_dir)\n",
        "tflite_model=converter.convert()\n",
        "\n",
        "with open(tflite_model_dir, \"wb\") as fp:\n",
        "  fp.write(tflite_model)\n"
      ],
      "execution_count": 3,
      "outputs": []
    },
    {
      "cell_type": "markdown",
      "metadata": {
        "id": "gVYjTdVouk0B"
      },
      "source": [
        "###Size measurement"
      ]
    },
    {
      "cell_type": "code",
      "metadata": {
        "colab": {
          "base_uri": "https://localhost:8080/"
        },
        "id": "giqSIjCwkffK",
        "outputId": "4ede38dc-5153-4fbf-bb69-37e65e445f3e"
      },
      "source": [
        "os.path.getsize(tflite_model_dir)"
      ],
      "execution_count": 4,
      "outputs": [
        {
          "output_type": "execute_result",
          "data": {
            "text/plain": [
              "75740"
            ]
          },
          "metadata": {
            "tags": []
          },
          "execution_count": 4
        }
      ]
    },
    {
      "cell_type": "markdown",
      "metadata": {
        "id": "zyunvglCvrdU"
      },
      "source": [
        "##CNN 1D MODEL:  tflite conversion and size measurement"
      ]
    },
    {
      "cell_type": "markdown",
      "metadata": {
        "id": "iei6N1VCwH3G"
      },
      "source": [
        "###*tflite* conversion"
      ]
    },
    {
      "cell_type": "code",
      "metadata": {
        "id": "jYPe9BzywEnW"
      },
      "source": [
        "saved_model_dir= ROOT_DIR +\"cnn_1d_model\"\n",
        "tflite_model_dir= tflite_models + \"cnn_1d_model\"\n",
        "\n",
        "converter=tf.lite.TFLiteConverter.from_saved_model(saved_model_dir)\n",
        "tflite_model=converter.convert()\n",
        "\n",
        "with open(tflite_model_dir, \"wb\") as fp:\n",
        "  fp.write(tflite_model)\n"
      ],
      "execution_count": 5,
      "outputs": []
    },
    {
      "cell_type": "markdown",
      "metadata": {
        "id": "6njfL3bWwEnW"
      },
      "source": [
        "###Size measurement"
      ]
    },
    {
      "cell_type": "code",
      "metadata": {
        "colab": {
          "base_uri": "https://localhost:8080/"
        },
        "id": "2rErNFeXwEnW",
        "outputId": "37257180-c940-4f91-ab7d-f2238e59438f"
      },
      "source": [
        "os.path.getsize(tflite_model_dir)"
      ],
      "execution_count": 6,
      "outputs": [
        {
          "output_type": "execute_result",
          "data": {
            "text/plain": [
              "71540"
            ]
          },
          "metadata": {
            "tags": []
          },
          "execution_count": 6
        }
      ]
    },
    {
      "cell_type": "markdown",
      "metadata": {
        "id": "5dE72i-PwZXB"
      },
      "source": [
        "##LSTM MODEL:  tflite conversion and size measurement"
      ]
    },
    {
      "cell_type": "markdown",
      "metadata": {
        "id": "ojrg-Jj9wZXB"
      },
      "source": [
        "###*tflite* conversion"
      ]
    },
    {
      "cell_type": "code",
      "metadata": {
        "id": "Bv3ziy49wZXB"
      },
      "source": [
        "saved_model_dir= ROOT_DIR +\"lstm_model\"\n",
        "tflite_model_dir= tflite_models + \"lstm_model\"\n",
        "\n",
        "converter=tf.lite.TFLiteConverter.from_saved_model(saved_model_dir)\n",
        "tflite_model=converter.convert()\n",
        "\n",
        "with open(tflite_model_dir, \"wb\") as fp:\n",
        "  fp.write(tflite_model)\n"
      ],
      "execution_count": 7,
      "outputs": []
    },
    {
      "cell_type": "markdown",
      "metadata": {
        "id": "_LaIcfuzwZXC"
      },
      "source": [
        "###Size measurement"
      ]
    },
    {
      "cell_type": "code",
      "metadata": {
        "colab": {
          "base_uri": "https://localhost:8080/"
        },
        "id": "FGuLah3lwZXC",
        "outputId": "aac26543-0867-4c17-e02f-72d6e2e1e00a"
      },
      "source": [
        "os.path.getsize(tflite_model_dir)"
      ],
      "execution_count": 8,
      "outputs": [
        {
          "output_type": "execute_result",
          "data": {
            "text/plain": [
              "72180"
            ]
          },
          "metadata": {
            "tags": []
          },
          "execution_count": 8
        }
      ]
    }
  ]
}